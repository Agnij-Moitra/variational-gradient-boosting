{
 "cells": [
  {
   "cell_type": "code",
   "execution_count": 105,
   "metadata": {},
   "outputs": [],
   "source": [
    "from VGBoost import VGBRegressor, VGBClassifier\n",
    "import warnings\n",
    "warnings.filterwarnings(\"ignore\")\n"
   ]
  },
  {
   "cell_type": "code",
   "execution_count": 106,
   "metadata": {},
   "outputs": [],
   "source": [
    "from sklearn.metrics import mean_squared_error\n"
   ]
  },
  {
   "cell_type": "markdown",
   "metadata": {},
   "source": [
    "# make_friedman1\n"
   ]
  },
  {
   "cell_type": "code",
   "execution_count": 107,
   "metadata": {},
   "outputs": [],
   "source": [
    "from sklearn.model_selection import train_test_split\n",
    "from sklearn.datasets import make_friedman1\n",
    "X, y = make_friedman1(n_samples=10000, noise=0.2)\n",
    "X_train, X_val, y_train, y_val = train_test_split(\n",
    "    X, y, train_size=.7,)\n"
   ]
  },
  {
   "cell_type": "markdown",
   "metadata": {},
   "source": [
    "## init models\n"
   ]
  },
  {
   "cell_type": "code",
   "execution_count": 108,
   "metadata": {},
   "outputs": [],
   "source": [
    "from xgboost import XGBRegressor"
   ]
  },
  {
   "cell_type": "code",
   "execution_count": 109,
   "metadata": {},
   "outputs": [
    {
     "name": "stdout",
     "output_type": "stream",
     "text": [
      "CPU times: total: 6.19 s\n",
      "Wall time: 1.1 s\n"
     ]
    },
    {
     "data": {
      "text/plain": [
       "(0.5006478524263778, 0.08650388632203862)"
      ]
     },
     "execution_count": 109,
     "metadata": {},
     "output_type": "execute_result"
    }
   ],
   "source": [
    "%%time\n",
    "clf = XGBRegressor()\n",
    "clf.fit(X_train, y_train)\n",
    "(mean_squared_error(y_val, clf.predict(X_val)),\n",
    " mean_squared_error(y_train, clf.predict(X_train)))\n"
   ]
  },
  {
   "cell_type": "code",
   "execution_count": 110,
   "metadata": {},
   "outputs": [
    {
     "name": "stdout",
     "output_type": "stream",
     "text": [
      "CPU times: total: 2min 28s\n",
      "Wall time: 58.7 s\n"
     ]
    },
    {
     "data": {
      "text/plain": [
       "(0.3496408943147373, 0.19642188913275607)"
      ]
     },
     "execution_count": 110,
     "metadata": {},
     "output_type": "execute_result"
    }
   ],
   "source": [
    "%%time\n",
    "clf = VGBRegressor()\n",
    "_ = clf.fit(X_train, y_train,)\n",
    "(mean_squared_error(y_val, clf.predict(X_val)),\n",
    " mean_squared_error(y_train, clf.predict(X_train)))\n"
   ]
  },
  {
   "cell_type": "code",
   "execution_count": 111,
   "metadata": {},
   "outputs": [
    {
     "name": "stdout",
     "output_type": "stream",
     "text": [
      "CPU times: total: 2min 48s\n",
      "Wall time: 1min 5s\n"
     ]
    },
    {
     "data": {
      "text/plain": [
       "(0.3367699813253746, 0.1796152879490218)"
      ]
     },
     "execution_count": 111,
     "metadata": {},
     "output_type": "execute_result"
    }
   ],
   "source": [
    "%%time\n",
    "clf = VGBRegressor()\n",
    "_ = clf.fit(X_train, y_train, light=False)\n",
    "(mean_squared_error(y_val, clf.predict(X_val)),\n",
    " mean_squared_error(y_train, clf.predict(X_train)))\n"
   ]
  },
  {
   "cell_type": "code",
   "execution_count": 112,
   "metadata": {},
   "outputs": [
    {
     "name": "stdout",
     "output_type": "stream",
     "text": [
      "CPU times: total: 26min 41s\n",
      "Wall time: 6min 10s\n"
     ]
    },
    {
     "data": {
      "text/plain": [
       "(0.19448188482122813, 0.1982378495509778)"
      ]
     },
     "execution_count": 112,
     "metadata": {},
     "output_type": "execute_result"
    }
   ],
   "source": [
    "%%time\n",
    "clf = VGBRegressor()\n",
    "_ = clf.fit(X_train, y_train, complexity=True)\n",
    "(mean_squared_error(y_val, clf.predict(X_val)),\n",
    " mean_squared_error(y_train, clf.predict(X_train)))\n"
   ]
  },
  {
   "cell_type": "markdown",
   "metadata": {},
   "source": [
    "## Optimized models (freeze_models)\n"
   ]
  },
  {
   "cell_type": "code",
   "execution_count": 113,
   "metadata": {},
   "outputs": [
    {
     "name": "stdout",
     "output_type": "stream",
     "text": [
      "CPU times: total: 2min 17s\n",
      "Wall time: 58.9 s\n"
     ]
    },
    {
     "data": {
      "text/plain": [
       "(0.35671717892454435, 0.20492050802901512)"
      ]
     },
     "execution_count": 113,
     "metadata": {},
     "output_type": "execute_result"
    }
   ],
   "source": [
    "%%time\n",
    "clf = VGBRegressor()\n",
    "_ = clf.fit(X_train, y_train, freeze_models=True)\n",
    "(mean_squared_error(y_val, clf.predict(X_val)),\n",
    " mean_squared_error(y_train, clf.predict(X_train)))\n"
   ]
  },
  {
   "cell_type": "code",
   "execution_count": 114,
   "metadata": {},
   "outputs": [
    {
     "name": "stdout",
     "output_type": "stream",
     "text": [
      "CPU times: total: 1min 57s\n",
      "Wall time: 49.1 s\n"
     ]
    },
    {
     "data": {
      "text/plain": [
       "(0.3450117622284099, 0.19230117025410873)"
      ]
     },
     "execution_count": 114,
     "metadata": {},
     "output_type": "execute_result"
    }
   ],
   "source": [
    "%%time\n",
    "clf = VGBRegressor()\n",
    "_ = clf.fit(X_train, y_train, n_random_models=5)\n",
    "(mean_squared_error(y_val, clf.predict(X_val)),\n",
    " mean_squared_error(y_train, clf.predict(X_train)))\n"
   ]
  },
  {
   "cell_type": "code",
   "execution_count": 115,
   "metadata": {},
   "outputs": [
    {
     "name": "stdout",
     "output_type": "stream",
     "text": [
      "CPU times: total: 2min 27s\n",
      "Wall time: 53.9 s\n"
     ]
    },
    {
     "data": {
      "text/plain": [
       "(0.35738468417992725, 0.19585982872659982)"
      ]
     },
     "execution_count": 115,
     "metadata": {},
     "output_type": "execute_result"
    }
   ],
   "source": [
    "%%time\n",
    "clf = VGBRegressor()\n",
    "_ = clf.fit(X_train, y_train, light=False, freeze_models=True)\n",
    "(mean_squared_error(y_val, clf.predict(X_val)),\n",
    " mean_squared_error(y_train, clf.predict(X_train)))\n"
   ]
  },
  {
   "cell_type": "code",
   "execution_count": 116,
   "metadata": {},
   "outputs": [
    {
     "name": "stdout",
     "output_type": "stream",
     "text": [
      "CPU times: total: 1min 5s\n",
      "Wall time: 32.7 s\n"
     ]
    },
    {
     "data": {
      "text/plain": [
       "(0.3492379070166755, 0.20365705832379014)"
      ]
     },
     "execution_count": 116,
     "metadata": {},
     "output_type": "execute_result"
    }
   ],
   "source": [
    "%%time\n",
    "clf = VGBRegressor()\n",
    "_ = clf.fit(X_train, y_train, light=False, n_random_models=5)\n",
    "(mean_squared_error(y_val, clf.predict(X_val)),\n",
    " mean_squared_error(y_train, clf.predict(X_train)))\n"
   ]
  },
  {
   "cell_type": "code",
   "execution_count": 117,
   "metadata": {},
   "outputs": [
    {
     "name": "stdout",
     "output_type": "stream",
     "text": [
      "CPU times: total: 12min 57s\n",
      "Wall time: 3min 38s\n"
     ]
    },
    {
     "data": {
      "text/plain": [
       "(0.25801372281332524, 0.28912935634559767)"
      ]
     },
     "execution_count": 117,
     "metadata": {},
     "output_type": "execute_result"
    }
   ],
   "source": [
    "%%time\n",
    "clf = VGBRegressor()\n",
    "_ = clf.fit(X_train, y_train, complexity=True, freeze_models=True)\n",
    "(mean_squared_error(y_val, clf.predict(X_val)),\n",
    " mean_squared_error(y_train, clf.predict(X_train)))\n"
   ]
  },
  {
   "cell_type": "code",
   "execution_count": 118,
   "metadata": {},
   "outputs": [
    {
     "name": "stdout",
     "output_type": "stream",
     "text": [
      "CPU times: total: 4min 29s\n",
      "Wall time: 1min 31s\n"
     ]
    },
    {
     "data": {
      "text/plain": [
       "(0.20830370423894645, 0.22782973385291438)"
      ]
     },
     "execution_count": 118,
     "metadata": {},
     "output_type": "execute_result"
    }
   ],
   "source": [
    "%%time\n",
    "clf = VGBRegressor()\n",
    "_ = clf.fit(X_train, y_train, complexity=True, n_random_models=5)\n",
    "(mean_squared_error(y_val, clf.predict(X_val)),\n",
    " mean_squared_error(y_train, clf.predict(X_train)))\n"
   ]
  },
  {
   "cell_type": "markdown",
   "metadata": {},
   "source": [
    "# make_regression\n"
   ]
  },
  {
   "cell_type": "markdown",
   "metadata": {},
   "source": [
    "## init models\n"
   ]
  },
  {
   "cell_type": "code",
   "execution_count": 122,
   "metadata": {},
   "outputs": [],
   "source": [
    "from sklearn.model_selection import train_test_split\n",
    "from sklearn.datasets import make_regression\n",
    "X, y = make_regression(n_samples=10000, noise=0.2)\n",
    "X_train, X_val, y_train, y_val = train_test_split(\n",
    "    X, y, train_size=.7,)\n"
   ]
  },
  {
   "cell_type": "code",
   "execution_count": 123,
   "metadata": {},
   "outputs": [],
   "source": [
    "from xgboost import XGBRegressor"
   ]
  },
  {
   "cell_type": "code",
   "execution_count": 124,
   "metadata": {},
   "outputs": [
    {
     "name": "stdout",
     "output_type": "stream",
     "text": [
      "CPU times: total: 38.7 s\n",
      "Wall time: 6.88 s\n"
     ]
    },
    {
     "data": {
      "text/plain": [
       "(3877.270396414244, 279.49571859457905)"
      ]
     },
     "execution_count": 124,
     "metadata": {},
     "output_type": "execute_result"
    }
   ],
   "source": [
    "%%time\n",
    "clf = XGBRegressor()\n",
    "clf.fit(X_train, y_train)\n",
    "(mean_squared_error(y_val, clf.predict(X_val)),\n",
    " mean_squared_error(y_train, clf.predict(X_train)))\n"
   ]
  },
  {
   "cell_type": "code",
   "execution_count": 125,
   "metadata": {},
   "outputs": [
    {
     "name": "stdout",
     "output_type": "stream",
     "text": [
      "CPU times: total: 6min 56s\n",
      "Wall time: 3min 26s\n"
     ]
    },
    {
     "data": {
      "text/plain": [
       "(0.040373028876931095, 0.04003243779688691)"
      ]
     },
     "execution_count": 125,
     "metadata": {},
     "output_type": "execute_result"
    }
   ],
   "source": [
    "%%time\n",
    "clf = VGBRegressor()\n",
    "_ = clf.fit(X_train, y_train,)\n",
    "(mean_squared_error(y_val, clf.predict(X_val)),\n",
    " mean_squared_error(y_train, clf.predict(X_train)))\n"
   ]
  },
  {
   "cell_type": "code",
   "execution_count": 126,
   "metadata": {},
   "outputs": [
    {
     "name": "stdout",
     "output_type": "stream",
     "text": [
      "CPU times: total: 6min 49s\n",
      "Wall time: 3min\n"
     ]
    },
    {
     "data": {
      "text/plain": [
       "(0.04045194263770323, 0.039885943419005365)"
      ]
     },
     "execution_count": 126,
     "metadata": {},
     "output_type": "execute_result"
    }
   ],
   "source": [
    "%%time\n",
    "clf = VGBRegressor()\n",
    "_ = clf.fit(X_train, y_train, light=False)\n",
    "(mean_squared_error(y_val, clf.predict(X_val)),\n",
    " mean_squared_error(y_train, clf.predict(X_train)))\n"
   ]
  },
  {
   "cell_type": "code",
   "execution_count": 127,
   "metadata": {},
   "outputs": [
    {
     "name": "stdout",
     "output_type": "stream",
     "text": [
      "CPU times: total: 2h 52min 49s\n",
      "Wall time: 45min 57s\n"
     ]
    },
    {
     "data": {
      "text/plain": [
       "(0.04084471295153364, 0.03959889684577745)"
      ]
     },
     "execution_count": 127,
     "metadata": {},
     "output_type": "execute_result"
    }
   ],
   "source": [
    "%%time\n",
    "clf = VGBRegressor()\n",
    "_ = clf.fit(X_train, y_train, complexity=True)\n",
    "(mean_squared_error(y_val, clf.predict(X_val)),\n",
    " mean_squared_error(y_train, clf.predict(X_train)))\n"
   ]
  },
  {
   "cell_type": "markdown",
   "metadata": {},
   "source": [
    "## Optimized models (freeze_models)\n"
   ]
  },
  {
   "cell_type": "code",
   "execution_count": 128,
   "metadata": {},
   "outputs": [
    {
     "name": "stdout",
     "output_type": "stream",
     "text": [
      "CPU times: total: 5min 35s\n",
      "Wall time: 2min 49s\n"
     ]
    },
    {
     "data": {
      "text/plain": [
       "(0.040953404838051786, 0.03958805113090476)"
      ]
     },
     "execution_count": 128,
     "metadata": {},
     "output_type": "execute_result"
    }
   ],
   "source": [
    "%%time\n",
    "clf = VGBRegressor()\n",
    "_ = clf.fit(X_train, y_train, freeze_models=True)\n",
    "(mean_squared_error(y_val, clf.predict(X_val)),\n",
    " mean_squared_error(y_train, clf.predict(X_train)))\n"
   ]
  },
  {
   "cell_type": "code",
   "execution_count": 129,
   "metadata": {},
   "outputs": [
    {
     "name": "stdout",
     "output_type": "stream",
     "text": [
      "CPU times: total: 4min 57s\n",
      "Wall time: 2min 39s\n"
     ]
    },
    {
     "data": {
      "text/plain": [
       "(0.04045822618706532, 0.039997641243388816)"
      ]
     },
     "execution_count": 129,
     "metadata": {},
     "output_type": "execute_result"
    }
   ],
   "source": [
    "%%time\n",
    "clf = VGBRegressor()\n",
    "_ = clf.fit(X_train, y_train, n_random_models=5)\n",
    "(mean_squared_error(y_val, clf.predict(X_val)),\n",
    " mean_squared_error(y_train, clf.predict(X_train)))\n"
   ]
  },
  {
   "cell_type": "code",
   "execution_count": 130,
   "metadata": {},
   "outputs": [
    {
     "name": "stdout",
     "output_type": "stream",
     "text": [
      "CPU times: total: 2min 25s\n",
      "Wall time: 1min 16s\n"
     ]
    },
    {
     "data": {
      "text/plain": [
       "(0.04016677293168845, 0.04002350130430154)"
      ]
     },
     "execution_count": 130,
     "metadata": {},
     "output_type": "execute_result"
    }
   ],
   "source": [
    "%%time\n",
    "clf = VGBRegressor()\n",
    "_ = clf.fit(X_train, y_train, light=False, freeze_models=True)\n",
    "(mean_squared_error(y_val, clf.predict(X_val)),\n",
    " mean_squared_error(y_train, clf.predict(X_train)))\n"
   ]
  },
  {
   "cell_type": "code",
   "execution_count": 131,
   "metadata": {},
   "outputs": [
    {
     "name": "stdout",
     "output_type": "stream",
     "text": [
      "CPU times: total: 2min 11s\n",
      "Wall time: 1min 15s\n"
     ]
    },
    {
     "data": {
      "text/plain": [
       "(0.040152657623810366, 0.04004255296033234)"
      ]
     },
     "execution_count": 131,
     "metadata": {},
     "output_type": "execute_result"
    }
   ],
   "source": [
    "%%time\n",
    "clf = VGBRegressor()\n",
    "_ = clf.fit(X_train, y_train, light=False, n_random_models=5)\n",
    "(mean_squared_error(y_val, clf.predict(X_val)),\n",
    " mean_squared_error(y_train, clf.predict(X_train)))\n"
   ]
  },
  {
   "cell_type": "code",
   "execution_count": 132,
   "metadata": {},
   "outputs": [
    {
     "name": "stdout",
     "output_type": "stream",
     "text": [
      "CPU times: total: 1h 11min 42s\n",
      "Wall time: 35min 19s\n"
     ]
    },
    {
     "data": {
      "text/plain": [
       "(0.041465633523810615, 0.04028801071557493)"
      ]
     },
     "execution_count": 132,
     "metadata": {},
     "output_type": "execute_result"
    }
   ],
   "source": [
    "%%time\n",
    "clf = VGBRegressor()\n",
    "_ = clf.fit(X_train, y_train, complexity=True, freeze_models=True)\n",
    "(mean_squared_error(y_val, clf.predict(X_val)),\n",
    " mean_squared_error(y_train, clf.predict(X_train)))\n"
   ]
  },
  {
   "cell_type": "code",
   "execution_count": 133,
   "metadata": {},
   "outputs": [
    {
     "name": "stdout",
     "output_type": "stream",
     "text": [
      "CPU times: total: 21min 42s\n",
      "Wall time: 9min 7s\n"
     ]
    },
    {
     "data": {
      "text/plain": [
       "(0.04095377238261444, 0.0396157307943949)"
      ]
     },
     "execution_count": 133,
     "metadata": {},
     "output_type": "execute_result"
    }
   ],
   "source": [
    "%%time\n",
    "clf = VGBRegressor()\n",
    "_ = clf.fit(X_train, y_train, complexity=True, n_random_models=5)\n",
    "(mean_squared_error(y_val, clf.predict(X_val)),\n",
    " mean_squared_error(y_train, clf.predict(X_train)))\n"
   ]
  },
  {
   "cell_type": "markdown",
   "metadata": {},
   "source": [
    "# Make Classification\n"
   ]
  },
  {
   "cell_type": "code",
   "execution_count": 134,
   "metadata": {},
   "outputs": [],
   "source": [
    "from sklearn.model_selection import train_test_split\n",
    "from sklearn.datasets import make_classification\n",
    "X, y = make_classification(n_samples=10000, flip_y=0.1)\n",
    "X_train, X_val, y_train, y_val = train_test_split(\n",
    "    X, y, train_size=.7, stratify=y\n",
    ")\n"
   ]
  },
  {
   "cell_type": "code",
   "execution_count": 135,
   "metadata": {},
   "outputs": [],
   "source": [
    "from sklearn.metrics import f1_score\n"
   ]
  },
  {
   "cell_type": "markdown",
   "metadata": {},
   "source": [
    "## Init Models\n"
   ]
  },
  {
   "cell_type": "code",
   "execution_count": 136,
   "metadata": {},
   "outputs": [],
   "source": [
    "from xgboost import XGBClassifier"
   ]
  },
  {
   "cell_type": "code",
   "execution_count": 137,
   "metadata": {},
   "outputs": [
    {
     "name": "stdout",
     "output_type": "stream",
     "text": [
      "CPU times: total: 6.47 s\n",
      "Wall time: 1.2 s\n"
     ]
    },
    {
     "data": {
      "text/plain": [
       "(0.8767772511848343, 0.999714611872146)"
      ]
     },
     "execution_count": 137,
     "metadata": {},
     "output_type": "execute_result"
    }
   ],
   "source": [
    "%%time\n",
    "clf = XGBClassifier()\n",
    "clf.fit(X_train, y_train)\n",
    "(f1_score(y_val, clf.predict(X_val)), f1_score(y_train, clf.predict(X_train)))\n"
   ]
  },
  {
   "cell_type": "code",
   "execution_count": 138,
   "metadata": {},
   "outputs": [
    {
     "name": "stdout",
     "output_type": "stream",
     "text": [
      "CPU times: total: 4min 51s\n",
      "Wall time: 1min 6s\n"
     ]
    },
    {
     "data": {
      "text/plain": [
       "(0.888888888888889, 0.9313935244615603)"
      ]
     },
     "execution_count": 138,
     "metadata": {},
     "output_type": "execute_result"
    }
   ],
   "source": [
    "%%time\n",
    "clf = VGBClassifier()\n",
    "_ = clf.fit(X_train, y_train)\n",
    "(f1_score(y_val, clf.predict(X_val)), f1_score(y_train, clf.predict(X_train)))\n"
   ]
  },
  {
   "cell_type": "code",
   "execution_count": 139,
   "metadata": {},
   "outputs": [
    {
     "name": "stdout",
     "output_type": "stream",
     "text": [
      "CPU times: total: 6min 46s\n",
      "Wall time: 1min 31s\n"
     ]
    },
    {
     "data": {
      "text/plain": [
       "(0.8868563685636857, 0.9717062017719348)"
      ]
     },
     "execution_count": 139,
     "metadata": {},
     "output_type": "execute_result"
    }
   ],
   "source": [
    "%%time\n",
    "clf = VGBClassifier()\n",
    "_ = clf.fit(X_train, y_train, light=False)\n",
    "(f1_score(y_val, clf.predict(X_val)), f1_score(y_train, clf.predict(X_train)))\n"
   ]
  },
  {
   "cell_type": "code",
   "execution_count": 140,
   "metadata": {},
   "outputs": [
    {
     "name": "stdout",
     "output_type": "stream",
     "text": [
      "CPU times: total: 1h 10min 16s\n",
      "Wall time: 14min 29s\n"
     ]
    },
    {
     "data": {
      "text/plain": [
       "(0.8885123686885801, 0.8993520518358532)"
      ]
     },
     "execution_count": 140,
     "metadata": {},
     "output_type": "execute_result"
    }
   ],
   "source": [
    "%%time\n",
    "clf = VGBClassifier()\n",
    "_ = clf.fit(X_train, y_train, complexity=True)\n",
    "(f1_score(y_val, clf.predict(X_val)), f1_score(y_train, clf.predict(X_train)))\n"
   ]
  },
  {
   "cell_type": "markdown",
   "metadata": {},
   "source": [
    "## Optimited Models (Freeze_model)\n"
   ]
  },
  {
   "cell_type": "code",
   "execution_count": 141,
   "metadata": {},
   "outputs": [
    {
     "name": "stdout",
     "output_type": "stream",
     "text": [
      "CPU times: total: 4min 7s\n",
      "Wall time: 1min 5s\n"
     ]
    },
    {
     "data": {
      "text/plain": [
       "(0.8843031123139378, 0.9375803456649049)"
      ]
     },
     "execution_count": 141,
     "metadata": {},
     "output_type": "execute_result"
    }
   ],
   "source": [
    "%%time\n",
    "clf = VGBClassifier()\n",
    "_ = clf.fit(X_train, y_train, freeze_models=True)\n",
    "(f1_score(y_val, clf.predict(X_val)), f1_score(y_train, clf.predict(X_train)))\n"
   ]
  },
  {
   "cell_type": "code",
   "execution_count": 142,
   "metadata": {},
   "outputs": [
    {
     "name": "stdout",
     "output_type": "stream",
     "text": [
      "CPU times: total: 3min 55s\n",
      "Wall time: 1min 11s\n"
     ]
    },
    {
     "data": {
      "text/plain": [
       "(0.8820338983050848, 0.9348044132397191)"
      ]
     },
     "execution_count": 142,
     "metadata": {},
     "output_type": "execute_result"
    }
   ],
   "source": [
    "%%time\n",
    "clf = VGBClassifier()\n",
    "_ = clf.fit(X_train, y_train, n_random_models=5)\n",
    "(f1_score(y_val, clf.predict(X_val)), f1_score(y_train, clf.predict(X_train)))\n"
   ]
  },
  {
   "cell_type": "code",
   "execution_count": 143,
   "metadata": {},
   "outputs": [
    {
     "name": "stdout",
     "output_type": "stream",
     "text": [
      "CPU times: total: 4min 16s\n",
      "Wall time: 1min 6s\n"
     ]
    },
    {
     "data": {
      "text/plain": [
       "(0.8849018280297901, 0.9758536933847692)"
      ]
     },
     "execution_count": 143,
     "metadata": {},
     "output_type": "execute_result"
    }
   ],
   "source": [
    "%%time\n",
    "clf = VGBClassifier()\n",
    "_ = clf.fit(X_train, y_train, light=False, freeze_models=True)\n",
    "(f1_score(y_val, clf.predict(X_val)), f1_score(y_train, clf.predict(X_train)))\n"
   ]
  },
  {
   "cell_type": "code",
   "execution_count": 144,
   "metadata": {},
   "outputs": [
    {
     "name": "stdout",
     "output_type": "stream",
     "text": [
      "CPU times: total: 2min 24s\n",
      "Wall time: 47.2 s\n"
     ]
    },
    {
     "data": {
      "text/plain": [
       "(0.8875338753387535, 0.9323006310958118)"
      ]
     },
     "execution_count": 144,
     "metadata": {},
     "output_type": "execute_result"
    }
   ],
   "source": [
    "%%time\n",
    "clf = VGBClassifier()\n",
    "_ = clf.fit(X_train, y_train, light=False, n_random_models=5)\n",
    "(f1_score(y_val, clf.predict(X_val)), f1_score(y_train, clf.predict(X_train)))\n"
   ]
  },
  {
   "cell_type": "code",
   "execution_count": 145,
   "metadata": {},
   "outputs": [
    {
     "name": "stdout",
     "output_type": "stream",
     "text": [
      "CPU times: total: 23min 14s\n",
      "Wall time: 4min 35s\n"
     ]
    },
    {
     "data": {
      "text/plain": [
       "(0.8810572687224669, 0.9326469326469327)"
      ]
     },
     "execution_count": 145,
     "metadata": {},
     "output_type": "execute_result"
    }
   ],
   "source": [
    "%%time\n",
    "clf = VGBClassifier()\n",
    "_ = clf.fit(X_train, y_train, complexity=True, freeze_models=True)\n",
    "(f1_score(y_val, clf.predict(X_val)), f1_score(y_train, clf.predict(X_train)))\n"
   ]
  },
  {
   "cell_type": "code",
   "execution_count": 146,
   "metadata": {},
   "outputs": [
    {
     "name": "stdout",
     "output_type": "stream",
     "text": [
      "CPU times: total: 11min 53s\n",
      "Wall time: 4min 4s\n"
     ]
    },
    {
     "data": {
      "text/plain": [
       "(0.8862639217009788, 0.9351653069987119)"
      ]
     },
     "execution_count": 146,
     "metadata": {},
     "output_type": "execute_result"
    }
   ],
   "source": [
    "%%time\n",
    "clf = VGBClassifier()\n",
    "_ = clf.fit(X_train, y_train, complexity=True, n_random_models=5)\n",
    "(f1_score(y_val, clf.predict(X_val)), f1_score(y_train, clf.predict(X_train)))\n"
   ]
  },
  {
   "cell_type": "code",
   "execution_count": null,
   "metadata": {},
   "outputs": [],
   "source": []
  },
  {
   "cell_type": "code",
   "execution_count": null,
   "metadata": {},
   "outputs": [],
   "source": []
  }
 ],
 "metadata": {
  "kernelspec": {
   "display_name": "Python 3.8.7 ('env': venv)",
   "language": "python",
   "name": "python3"
  },
  "language_info": {
   "codemirror_mode": {
    "name": "ipython",
    "version": 3
   },
   "file_extension": ".py",
   "mimetype": "text/x-python",
   "name": "python",
   "nbconvert_exporter": "python",
   "pygments_lexer": "ipython3",
   "version": "3.8.7 (tags/v3.8.7:6503f05, Dec 21 2020, 17:59:51) [MSC v.1928 64 bit (AMD64)]"
  },
  "orig_nbformat": 4,
  "vscode": {
   "interpreter": {
    "hash": "023b056bc26a3a4ec4ccb849012e9ec0a7e7339a1d248e7ddb8294afb0b6c3ca"
   }
  }
 },
 "nbformat": 4,
 "nbformat_minor": 2
}
