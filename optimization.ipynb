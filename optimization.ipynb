{
 "cells": [
  {
   "cell_type": "code",
   "execution_count": 21,
   "metadata": {},
   "outputs": [],
   "source": [
    "from VGBoost import VGBRegressor, VGBClassifier\n",
    "import warnings\n",
    "warnings.filterwarnings(\"ignore\")\n"
   ]
  },
  {
   "cell_type": "code",
   "execution_count": 22,
   "metadata": {},
   "outputs": [],
   "source": [
    "from sklearn.metrics import mean_squared_error\n"
   ]
  },
  {
   "cell_type": "markdown",
   "metadata": {},
   "source": [
    "# make_friedman1\n"
   ]
  },
  {
   "cell_type": "code",
   "execution_count": 23,
   "metadata": {},
   "outputs": [],
   "source": [
    "from sklearn.model_selection import train_test_split\n",
    "from sklearn.datasets import make_friedman1\n",
    "X, y = make_friedman1(n_samples=10000, noise=0.2)\n",
    "X_train, X_val, y_train, y_val = train_test_split(\n",
    "    X, y, train_size=.7,)\n"
   ]
  },
  {
   "cell_type": "markdown",
   "metadata": {},
   "source": [
    "## init models\n"
   ]
  },
  {
   "cell_type": "code",
   "execution_count": 24,
   "metadata": {},
   "outputs": [
    {
     "name": "stderr",
     "output_type": "stream",
     "text": [
      "UsageError: Line magic function `%` not found.\n"
     ]
    }
   ],
   "source": [
    "from xgboost import XGBRegressor\n",
    "% % time\n",
    "clf = XGBRegressor()\n",
    "clf.fit(X_train, y_train)\n",
    "(mean_squared_error(y_val, clf.predict(X_val)),\n",
    " mean_squared_error(y_train, clf.predict(X_train)))\n"
   ]
  },
  {
   "cell_type": "code",
   "execution_count": 25,
   "metadata": {},
   "outputs": [
    {
     "name": "stderr",
     "output_type": "stream",
     "text": [
      "UsageError: Line magic function `%` not found.\n"
     ]
    }
   ],
   "source": [
    "% % time\n",
    "clf = VGBRegressor()\n",
    "_ = clf.fit(X_train, y_train,)\n",
    "(mean_squared_error(y_val, clf.predict(X_val)),\n",
    " mean_squared_error(y_train, clf.predict(X_train)))\n"
   ]
  },
  {
   "cell_type": "code",
   "execution_count": 26,
   "metadata": {},
   "outputs": [
    {
     "name": "stderr",
     "output_type": "stream",
     "text": [
      "UsageError: Line magic function `%` not found.\n"
     ]
    }
   ],
   "source": [
    "% % time\n",
    "clf = VGBRegressor()\n",
    "_ = clf.fit(X_train, y_train, light=False)\n",
    "(mean_squared_error(y_val, clf.predict(X_val)),\n",
    " mean_squared_error(y_train, clf.predict(X_train)))\n"
   ]
  },
  {
   "cell_type": "code",
   "execution_count": 27,
   "metadata": {},
   "outputs": [
    {
     "name": "stderr",
     "output_type": "stream",
     "text": [
      "UsageError: Line magic function `%` not found.\n"
     ]
    }
   ],
   "source": [
    "% % time\n",
    "clf = VGBRegressor()\n",
    "_ = clf.fit(X_train, y_train, complexity=True)\n",
    "(mean_squared_error(y_val, clf.predict(X_val)),\n",
    " mean_squared_error(y_train, clf.predict(X_train)))\n"
   ]
  },
  {
   "cell_type": "markdown",
   "metadata": {},
   "source": [
    "## Optimized models (freeze_models)\n"
   ]
  },
  {
   "cell_type": "code",
   "execution_count": 28,
   "metadata": {},
   "outputs": [
    {
     "name": "stderr",
     "output_type": "stream",
     "text": [
      "UsageError: Line magic function `%` not found.\n"
     ]
    }
   ],
   "source": [
    "% % time\n",
    "clf = VGBRegressor()\n",
    "_ = clf.fit(X_train, y_train, freeze_models=True)\n",
    "(mean_squared_error(y_val, clf.predict(X_val)),\n",
    " mean_squared_error(y_train, clf.predict(X_train)))\n"
   ]
  },
  {
   "cell_type": "code",
   "execution_count": 29,
   "metadata": {},
   "outputs": [
    {
     "name": "stderr",
     "output_type": "stream",
     "text": [
      "UsageError: Line magic function `%` not found.\n"
     ]
    }
   ],
   "source": [
    "% % time\n",
    "clf = VGBRegressor()\n",
    "_ = clf.fit(X_train, y_train, n_random_models=5)\n",
    "(mean_squared_error(y_val, clf.predict(X_val)),\n",
    " mean_squared_error(y_train, clf.predict(X_train)))\n"
   ]
  },
  {
   "cell_type": "code",
   "execution_count": 30,
   "metadata": {},
   "outputs": [
    {
     "name": "stderr",
     "output_type": "stream",
     "text": [
      "UsageError: Line magic function `%` not found.\n"
     ]
    }
   ],
   "source": [
    "% % time\n",
    "clf = VGBRegressor()\n",
    "_ = clf.fit(X_train, y_train, light=False, freeze_models=True)\n",
    "(mean_squared_error(y_val, clf.predict(X_val)),\n",
    " mean_squared_error(y_train, clf.predict(X_train)))\n"
   ]
  },
  {
   "cell_type": "code",
   "execution_count": 31,
   "metadata": {},
   "outputs": [
    {
     "name": "stderr",
     "output_type": "stream",
     "text": [
      "UsageError: Line magic function `%` not found.\n"
     ]
    }
   ],
   "source": [
    "% % time\n",
    "clf = VGBRegressor()\n",
    "_ = clf.fit(X_train, y_train, light=False, n_random_models=5)\n",
    "(mean_squared_error(y_val, clf.predict(X_val)),\n",
    " mean_squared_error(y_train, clf.predict(X_train)))\n"
   ]
  },
  {
   "cell_type": "code",
   "execution_count": 32,
   "metadata": {},
   "outputs": [
    {
     "name": "stderr",
     "output_type": "stream",
     "text": [
      "UsageError: Line magic function `%` not found.\n"
     ]
    }
   ],
   "source": [
    "% % time\n",
    "clf = VGBRegressor()\n",
    "_ = clf.fit(X_train, y_train, complexity=True, freeze_models=True)\n",
    "(mean_squared_error(y_val, clf.predict(X_val)),\n",
    " mean_squared_error(y_train, clf.predict(X_train)))\n"
   ]
  },
  {
   "cell_type": "code",
   "execution_count": 33,
   "metadata": {},
   "outputs": [
    {
     "name": "stderr",
     "output_type": "stream",
     "text": [
      "UsageError: Line magic function `%` not found.\n"
     ]
    }
   ],
   "source": [
    "% % time\n",
    "clf = VGBRegressor()\n",
    "_ = clf.fit(X_train, y_train, complexity=True, n_random_models=5)\n",
    "(mean_squared_error(y_val, clf.predict(X_val)),\n",
    " mean_squared_error(y_train, clf.predict(X_train)))\n"
   ]
  },
  {
   "cell_type": "markdown",
   "metadata": {},
   "source": [
    "# make_regression\n"
   ]
  },
  {
   "cell_type": "markdown",
   "metadata": {},
   "source": [
    "## init models\n"
   ]
  },
  {
   "cell_type": "code",
   "execution_count": 34,
   "metadata": {},
   "outputs": [],
   "source": [
    "from sklearn.model_selection import train_test_split\n",
    "from sklearn.datasets import make_regression\n",
    "X, y = make_regression(n_samples=10000, noise=0.2)\n",
    "X_train, X_val, y_train, y_val = train_test_split(\n",
    "    X, y, train_size=.7,)\n"
   ]
  },
  {
   "cell_type": "code",
   "execution_count": 35,
   "metadata": {},
   "outputs": [
    {
     "name": "stderr",
     "output_type": "stream",
     "text": [
      "UsageError: Line magic function `%` not found.\n"
     ]
    }
   ],
   "source": [
    "from xgboost import XGBRegressor\n",
    "% % time\n",
    "clf = XGBRegressor()\n",
    "clf.fit(X_train, y_train)\n",
    "(mean_squared_error(y_val, clf.predict(X_val)),\n",
    " mean_squared_error(y_train, clf.predict(X_train)))\n"
   ]
  },
  {
   "cell_type": "code",
   "execution_count": 36,
   "metadata": {},
   "outputs": [
    {
     "name": "stderr",
     "output_type": "stream",
     "text": [
      "UsageError: Line magic function `%` not found.\n"
     ]
    }
   ],
   "source": [
    "% % time\n",
    "clf = VGBRegressor()\n",
    "_ = clf.fit(X_train, y_train,)\n",
    "(mean_squared_error(y_val, clf.predict(X_val)),\n",
    " mean_squared_error(y_train, clf.predict(X_train)))\n"
   ]
  },
  {
   "cell_type": "code",
   "execution_count": 37,
   "metadata": {},
   "outputs": [
    {
     "name": "stderr",
     "output_type": "stream",
     "text": [
      "UsageError: Line magic function `%` not found.\n"
     ]
    }
   ],
   "source": [
    "% % time\n",
    "clf = VGBRegressor()\n",
    "_ = clf.fit(X_train, y_train, light=False)\n",
    "(mean_squared_error(y_val, clf.predict(X_val)),\n",
    " mean_squared_error(y_train, clf.predict(X_train)))\n"
   ]
  },
  {
   "cell_type": "code",
   "execution_count": 38,
   "metadata": {},
   "outputs": [
    {
     "name": "stderr",
     "output_type": "stream",
     "text": [
      "UsageError: Line magic function `%` not found.\n"
     ]
    }
   ],
   "source": [
    "% % time\n",
    "clf = VGBRegressor()\n",
    "_ = clf.fit(X_train, y_train, complexity=True)\n",
    "(mean_squared_error(y_val, clf.predict(X_val)),\n",
    " mean_squared_error(y_train, clf.predict(X_train)))\n"
   ]
  },
  {
   "cell_type": "markdown",
   "metadata": {},
   "source": [
    "## Optimized models (freeze_models)\n"
   ]
  },
  {
   "cell_type": "code",
   "execution_count": 39,
   "metadata": {},
   "outputs": [
    {
     "name": "stderr",
     "output_type": "stream",
     "text": [
      "UsageError: Line magic function `%` not found.\n"
     ]
    }
   ],
   "source": [
    "% % time\n",
    "clf = VGBRegressor()\n",
    "_ = clf.fit(X_train, y_train, freeze_models=True)\n",
    "(mean_squared_error(y_val, clf.predict(X_val)),\n",
    " mean_squared_error(y_train, clf.predict(X_train)))\n"
   ]
  },
  {
   "cell_type": "code",
   "execution_count": 40,
   "metadata": {},
   "outputs": [
    {
     "name": "stderr",
     "output_type": "stream",
     "text": [
      "UsageError: Line magic function `%` not found.\n"
     ]
    }
   ],
   "source": [
    "% % time\n",
    "clf = VGBRegressor()\n",
    "_ = clf.fit(X_train, y_train, n_random_models=5)\n",
    "(mean_squared_error(y_val, clf.predict(X_val)),\n",
    " mean_squared_error(y_train, clf.predict(X_train)))\n"
   ]
  },
  {
   "cell_type": "code",
   "execution_count": 41,
   "metadata": {},
   "outputs": [
    {
     "name": "stderr",
     "output_type": "stream",
     "text": [
      "UsageError: Line magic function `%` not found.\n"
     ]
    }
   ],
   "source": [
    "% % time\n",
    "clf = VGBRegressor()\n",
    "_ = clf.fit(X_train, y_train, light=False, freeze_models=True)\n",
    "(mean_squared_error(y_val, clf.predict(X_val)),\n",
    " mean_squared_error(y_train, clf.predict(X_train)))\n"
   ]
  },
  {
   "cell_type": "code",
   "execution_count": 42,
   "metadata": {},
   "outputs": [
    {
     "name": "stderr",
     "output_type": "stream",
     "text": [
      "UsageError: Line magic function `%` not found.\n"
     ]
    }
   ],
   "source": [
    "% % time\n",
    "clf = VGBRegressor()\n",
    "_ = clf.fit(X_train, y_train, light=False, n_random_models=5)\n",
    "(mean_squared_error(y_val, clf.predict(X_val)),\n",
    " mean_squared_error(y_train, clf.predict(X_train)))\n"
   ]
  },
  {
   "cell_type": "code",
   "execution_count": 43,
   "metadata": {},
   "outputs": [
    {
     "name": "stderr",
     "output_type": "stream",
     "text": [
      "UsageError: Line magic function `%` not found.\n"
     ]
    }
   ],
   "source": [
    "% % time\n",
    "clf = VGBRegressor()\n",
    "_ = clf.fit(X_train, y_train, complexity=True, freeze_models=True)\n",
    "(mean_squared_error(y_val, clf.predict(X_val)),\n",
    " mean_squared_error(y_train, clf.predict(X_train)))\n"
   ]
  },
  {
   "cell_type": "code",
   "execution_count": 44,
   "metadata": {},
   "outputs": [
    {
     "name": "stderr",
     "output_type": "stream",
     "text": [
      "UsageError: Line magic function `%` not found.\n"
     ]
    }
   ],
   "source": [
    "% % time\n",
    "clf = VGBRegressor()\n",
    "_ = clf.fit(X_train, y_train, complexity=True, n_random_models=5)\n",
    "(mean_squared_error(y_val, clf.predict(X_val)),\n",
    " mean_squared_error(y_train, clf.predict(X_train)))\n"
   ]
  },
  {
   "cell_type": "markdown",
   "metadata": {},
   "source": [
    "# Make Classification\n"
   ]
  },
  {
   "cell_type": "code",
   "execution_count": 45,
   "metadata": {},
   "outputs": [],
   "source": [
    "from sklearn.model_selection import train_test_split\n",
    "from sklearn.datasets import make_classification\n",
    "X, y = make_classification(n_samples=10000, flip_y=0.1)\n",
    "X_train, X_val, y_train, y_val = train_test_split(\n",
    "    X, y, train_size=.7, stratify=y\n",
    ")\n"
   ]
  },
  {
   "cell_type": "code",
   "execution_count": 46,
   "metadata": {},
   "outputs": [],
   "source": [
    "from sklearn.metrics import f1_score\n"
   ]
  },
  {
   "cell_type": "markdown",
   "metadata": {},
   "source": [
    "## Init Models\n"
   ]
  },
  {
   "cell_type": "code",
   "execution_count": 47,
   "metadata": {},
   "outputs": [
    {
     "name": "stderr",
     "output_type": "stream",
     "text": [
      "UsageError: Line magic function `%` not found.\n"
     ]
    }
   ],
   "source": [
    "from xgboost import XGBClassifier\n",
    "% % time\n",
    "clf = XGBClassifier()\n",
    "clf.fit(X_train, y_train)\n",
    "(f1_score(y_val, clf.predict(X_val)), f1_score(y_train, clf.predict(X_train)))\n"
   ]
  },
  {
   "cell_type": "code",
   "execution_count": 48,
   "metadata": {},
   "outputs": [
    {
     "name": "stderr",
     "output_type": "stream",
     "text": [
      "UsageError: Line magic function `%` not found.\n"
     ]
    }
   ],
   "source": [
    "% % time\n",
    "clf = VGBClassifier()\n",
    "_ = clf.fit(X_train, y_train)\n",
    "(f1_score(y_val, clf.predict(X_val)), f1_score(y_train, clf.predict(X_train)))\n"
   ]
  },
  {
   "cell_type": "code",
   "execution_count": 49,
   "metadata": {},
   "outputs": [
    {
     "name": "stderr",
     "output_type": "stream",
     "text": [
      "UsageError: Line magic function `%` not found.\n"
     ]
    }
   ],
   "source": [
    "% % time\n",
    "clf = VGBClassifier()\n",
    "_ = clf.fit(X_train, y_train, light=False)\n",
    "(f1_score(y_val, clf.predict(X_val)), f1_score(y_train, clf.predict(X_train)))\n"
   ]
  },
  {
   "cell_type": "code",
   "execution_count": 50,
   "metadata": {},
   "outputs": [
    {
     "name": "stderr",
     "output_type": "stream",
     "text": [
      "UsageError: Line magic function `%` not found.\n"
     ]
    }
   ],
   "source": [
    "% % time\n",
    "clf = VGBClassifier()\n",
    "_ = clf.fit(X_train, y_train, complexity=True)\n",
    "(f1_score(y_val, clf.predict(X_val)), f1_score(y_train, clf.predict(X_train)))\n"
   ]
  },
  {
   "cell_type": "markdown",
   "metadata": {},
   "source": [
    "## Optimited Models (Freeze_model)\n"
   ]
  },
  {
   "cell_type": "code",
   "execution_count": 51,
   "metadata": {},
   "outputs": [
    {
     "name": "stderr",
     "output_type": "stream",
     "text": [
      "UsageError: Line magic function `%` not found.\n"
     ]
    }
   ],
   "source": [
    "% % time\n",
    "clf = VGBClassifier()\n",
    "_ = clf.fit(X_train, y_train, freeze_models=True)\n",
    "(f1_score(y_val, clf.predict(X_val)), f1_score(y_train, clf.predict(X_train)))\n"
   ]
  },
  {
   "cell_type": "code",
   "execution_count": 52,
   "metadata": {},
   "outputs": [
    {
     "name": "stderr",
     "output_type": "stream",
     "text": [
      "UsageError: Line magic function `%` not found.\n"
     ]
    }
   ],
   "source": [
    "% % time\n",
    "clf = VGBClassifier()\n",
    "_ = clf.fit(X_train, y_train, n_random_models=5)\n",
    "(f1_score(y_val, clf.predict(X_val)), f1_score(y_train, clf.predict(X_train)))\n"
   ]
  },
  {
   "cell_type": "code",
   "execution_count": 53,
   "metadata": {},
   "outputs": [
    {
     "name": "stderr",
     "output_type": "stream",
     "text": [
      "UsageError: Line magic function `%` not found.\n"
     ]
    }
   ],
   "source": [
    "% % time\n",
    "clf = VGBClassifier()\n",
    "_ = clf.fit(X_train, y_train, light=False, freeze_models=True)\n",
    "(f1_score(y_val, clf.predict(X_val)), f1_score(y_train, clf.predict(X_train)))\n"
   ]
  },
  {
   "cell_type": "code",
   "execution_count": 54,
   "metadata": {},
   "outputs": [
    {
     "name": "stderr",
     "output_type": "stream",
     "text": [
      "UsageError: Line magic function `%` not found.\n"
     ]
    }
   ],
   "source": [
    "% % time\n",
    "clf = VGBClassifier()\n",
    "_ = clf.fit(X_train, y_train, light=False, n_random_models=5)\n",
    "(f1_score(y_val, clf.predict(X_val)), f1_score(y_train, clf.predict(X_train)))\n"
   ]
  },
  {
   "cell_type": "code",
   "execution_count": 55,
   "metadata": {},
   "outputs": [
    {
     "name": "stderr",
     "output_type": "stream",
     "text": [
      "UsageError: Line magic function `%` not found.\n"
     ]
    }
   ],
   "source": [
    "% % time\n",
    "clf = VGBClassifier()\n",
    "_ = clf.fit(X_train, y_train, complexity=True, freeze_models=True)\n",
    "(f1_score(y_val, clf.predict(X_val)), f1_score(y_train, clf.predict(X_train)))\n"
   ]
  },
  {
   "cell_type": "code",
   "execution_count": 56,
   "metadata": {},
   "outputs": [
    {
     "name": "stderr",
     "output_type": "stream",
     "text": [
      "UsageError: Line magic function `%` not found.\n"
     ]
    }
   ],
   "source": [
    "% % time\n",
    "clf = VGBClassifier()\n",
    "_ = clf.fit(X_train, y_train, complexity=True, n_random_models=5)\n",
    "(f1_score(y_val, clf.predict(X_val)), f1_score(y_train, clf.predict(X_train)))\n"
   ]
  }
 ],
 "metadata": {
  "kernelspec": {
   "display_name": "Python 3.8.7 ('env': venv)",
   "language": "python",
   "name": "python3"
  },
  "language_info": {
   "codemirror_mode": {
    "name": "ipython",
    "version": 3
   },
   "file_extension": ".py",
   "mimetype": "text/x-python",
   "name": "python",
   "nbconvert_exporter": "python",
   "pygments_lexer": "ipython3",
   "version": "3.8.7"
  },
  "orig_nbformat": 4,
  "vscode": {
   "interpreter": {
    "hash": "023b056bc26a3a4ec4ccb849012e9ec0a7e7339a1d248e7ddb8294afb0b6c3ca"
   }
  }
 },
 "nbformat": 4,
 "nbformat_minor": 2
}
