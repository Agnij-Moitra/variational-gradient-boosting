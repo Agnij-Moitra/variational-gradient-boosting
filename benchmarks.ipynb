{
 "cells": [
  {
   "cell_type": "code",
   "execution_count": 1,
   "metadata": {},
   "outputs": [],
   "source": [
    "from VGBoost import VGBRegressor, VGBClassifier\n",
    "import warnings\n",
    "warnings.filterwarnings(\"ignore\")"
   ]
  },
  {
   "cell_type": "code",
   "execution_count": 32,
   "metadata": {},
   "outputs": [],
   "source": [
    "from sklearn.metrics import mean_squared_error, r2_score, f1_score, roc_auc_score\n",
    "from sklearn.model_selection import train_test_split"
   ]
  },
  {
   "cell_type": "code",
   "execution_count": 30,
   "metadata": {},
   "outputs": [],
   "source": [
    "from xgboost import XGBRegressor, XGBClassifier"
   ]
  },
  {
   "attachments": {},
   "cell_type": "markdown",
   "metadata": {},
   "source": [
    "# Regression Benchmarks"
   ]
  },
  {
   "cell_type": "code",
   "execution_count": 19,
   "metadata": {},
   "outputs": [],
   "source": [
    "from sklearn.datasets import fetch_california_housing"
   ]
  },
  {
   "cell_type": "code",
   "execution_count": 5,
   "metadata": {},
   "outputs": [],
   "source": [
    "X, y = fetch_california_housing(return_X_y=True)\n",
    "X_train, X_val, y_train, y_val = train_test_split(\n",
    "    X, y, train_size=.7,)"
   ]
  },
  {
   "cell_type": "code",
   "execution_count": 20,
   "metadata": {},
   "outputs": [
    {
     "data": {
      "text/plain": [
       "20640"
      ]
     },
     "execution_count": 20,
     "metadata": {},
     "output_type": "execute_result"
    }
   ],
   "source": [
    "/len X"
   ]
  },
  {
   "cell_type": "code",
   "execution_count": 25,
   "metadata": {},
   "outputs": [
    {
     "name": "stdout",
     "output_type": "stream",
     "text": [
      "CPU times: total: 9.33 s\n",
      "Wall time: 2.17 s\n"
     ]
    },
    {
     "data": {
      "text/plain": [
       "{'mse_val': 0.2367857892680413,\n",
       " 'mse_train': 0.07002902293739371,\n",
       " 'r2_val': 0.8241819099192887,\n",
       " 'r2_train': 0.9471487549376263}"
      ]
     },
     "execution_count": 25,
     "metadata": {},
     "output_type": "execute_result"
    }
   ],
   "source": [
    "%%time\n",
    "reg = XGBRegressor()\n",
    "reg.fit(X_train, y_train)\n",
    "{\n",
    "    'mse_val': mean_squared_error(y_val, reg.predict(X_val)),\n",
    "    'mse_train': mean_squared_error(y_train, reg.predict(X_train)),\n",
    "    'r2_val': r2_score(y_val, reg.predict(X_val)),\n",
    "    'r2_train': r2_score(y_train, reg.predict(X_train)),\n",
    "}\n"
   ]
  },
  {
   "cell_type": "code",
   "execution_count": 27,
   "metadata": {},
   "outputs": [
    {
     "name": "stdout",
     "output_type": "stream",
     "text": [
      "CPU times: total: 10min 17s\n",
      "Wall time: 3min 23s\n"
     ]
    },
    {
     "data": {
      "text/plain": [
       "{'mse_val': 0.23776835182697828,\n",
       " 'mse_train': 0.1676531113679553,\n",
       " 'r2_val': 0.823452337958779,\n",
       " 'r2_train': 0.8734713793979572}"
      ]
     },
     "execution_count": 27,
     "metadata": {},
     "output_type": "execute_result"
    }
   ],
   "source": [
    "%%time\n",
    "reg = VGBRegressor()\n",
    "_ = reg.fit(X_train, y_train, complexity=True, n_random_models=5)\n",
    "{\n",
    "    'mse_val': mean_squared_error(y_val, reg.predict(X_val)),\n",
    "    'mse_train': mean_squared_error(y_train, reg.predict(X_train)),\n",
    "    'r2_val': r2_score(y_val, reg.predict(X_val)),\n",
    "    'r2_train': r2_score(y_train, reg.predict(X_train)),\n",
    "}\n"
   ]
  },
  {
   "cell_type": "code",
   "execution_count": 26,
   "metadata": {},
   "outputs": [
    {
     "name": "stdout",
     "output_type": "stream",
     "text": [
      "CPU times: total: 2min 30s\n",
      "Wall time: 1min 24s\n"
     ]
    },
    {
     "data": {
      "text/plain": [
       "{'mse_val': 0.22761636531576054,\n",
       " 'mse_train': 0.16051740218485774,\n",
       " 'r2_val': 0.8309903869457769,\n",
       " 'r2_train': 0.8788567339111406}"
      ]
     },
     "execution_count": 26,
     "metadata": {},
     "output_type": "execute_result"
    }
   ],
   "source": [
    "%%time\n",
    "reg = VGBRegressor()\n",
    "_ = reg.fit(X_train, y_train, light=False, n_random_models=10)\n",
    "{\n",
    "    'mse_val': mean_squared_error(y_val, reg.predict(X_val)),\n",
    "    'mse_train': mean_squared_error(y_train, reg.predict(X_train)),\n",
    "    'r2_val': r2_score(y_val, reg.predict(X_val)),\n",
    "    'r2_train': r2_score(y_train, reg.predict(X_train)),\n",
    "}\n"
   ]
  },
  {
   "cell_type": "code",
   "execution_count": 28,
   "metadata": {},
   "outputs": [],
   "source": [
    "X_train, X_val, y_train, y_val = train_test_split(\n",
    "    X[:1000], y[:1000], train_size=.7,)"
   ]
  },
  {
   "cell_type": "code",
   "execution_count": 29,
   "metadata": {},
   "outputs": [
    {
     "name": "stdout",
     "output_type": "stream",
     "text": [
      "CPU times: total: 516 ms\n",
      "Wall time: 107 ms\n"
     ]
    },
    {
     "data": {
      "text/plain": [
       "{'mse_val': 0.22282136458515117,\n",
       " 'mse_train': 0.0001152841329968796,\n",
       " 'r2_val': 0.7138172558410909,\n",
       " 'r2_train': 0.999855478968825}"
      ]
     },
     "execution_count": 29,
     "metadata": {},
     "output_type": "execute_result"
    }
   ],
   "source": [
    "%%time\n",
    "reg = XGBRegressor()\n",
    "reg.fit(X_train, y_train)\n",
    "{\n",
    "    'mse_val': mean_squared_error(y_val, reg.predict(X_val)),\n",
    "    'mse_train': mean_squared_error(y_train, reg.predict(X_train)),\n",
    "    'r2_val': r2_score(y_val, reg.predict(X_val)),\n",
    "    'r2_train': r2_score(y_train, reg.predict(X_train)),\n",
    "}\n"
   ]
  },
  {
   "cell_type": "code",
   "execution_count": 30,
   "metadata": {},
   "outputs": [
    {
     "name": "stdout",
     "output_type": "stream",
     "text": [
      "CPU times: total: 14.1 s\n",
      "Wall time: 3.93 s\n"
     ]
    },
    {
     "data": {
      "text/plain": [
       "{'mse_val': 0.20921153643092089,\n",
       " 'mse_train': 0.0625370433670398,\n",
       " 'r2_val': 0.731297168397772,\n",
       " 'r2_train': 0.9216031056564568}"
      ]
     },
     "execution_count": 30,
     "metadata": {},
     "output_type": "execute_result"
    }
   ],
   "source": [
    "%%time\n",
    "reg = VGBRegressor()\n",
    "_ = reg.fit(X_train, y_train, light=False, n_random_models=5)\n",
    "{\n",
    "    'mse_val': mean_squared_error(y_val, reg.predict(X_val)),\n",
    "    'mse_train': mean_squared_error(y_train, reg.predict(X_train)),\n",
    "    'r2_val': r2_score(y_val, reg.predict(X_val)),\n",
    "    'r2_train': r2_score(y_train, reg.predict(X_train)),\n",
    "}\n"
   ]
  },
  {
   "cell_type": "code",
   "execution_count": 31,
   "metadata": {},
   "outputs": [
    {
     "name": "stdout",
     "output_type": "stream",
     "text": [
      "CPU times: total: 1min 11s\n",
      "Wall time: 19.3 s\n"
     ]
    },
    {
     "data": {
      "text/plain": [
       "{'mse_val': 0.1870213558693828,\n",
       " 'mse_train': 0.06459641984564922,\n",
       " 'r2_val': 0.7597973383806007,\n",
       " 'r2_train': 0.9190214562609208}"
      ]
     },
     "execution_count": 31,
     "metadata": {},
     "output_type": "execute_result"
    }
   ],
   "source": [
    "%%time\n",
    "reg = VGBRegressor()\n",
    "_ = reg.fit(X_train, y_train, complexity=True, n_random_models=5)\n",
    "{\n",
    "    'mse_val': mean_squared_error(y_val, reg.predict(X_val)),\n",
    "    'mse_train': mean_squared_error(y_train, reg.predict(X_train)),\n",
    "    'r2_val': r2_score(y_val, reg.predict(X_val)),\n",
    "    'r2_train': r2_score(y_train, reg.predict(X_train)),\n",
    "}\n"
   ]
  },
  {
   "cell_type": "code",
   "execution_count": 36,
   "metadata": {},
   "outputs": [],
   "source": [
    "X_train, X_val, y_train, y_val = train_test_split(\n",
    "    X[:5000], y[:5000], train_size=.7,)"
   ]
  },
  {
   "cell_type": "code",
   "execution_count": 37,
   "metadata": {},
   "outputs": [
    {
     "name": "stdout",
     "output_type": "stream",
     "text": [
      "CPU times: total: 1.61 s\n",
      "Wall time: 307 ms\n"
     ]
    },
    {
     "data": {
      "text/plain": [
       "{'mse_val': 0.19497399050016945,\n",
       " 'mse_train': 0.010226599973736627,\n",
       " 'r2_val': 0.828200609526697,\n",
       " 'r2_train': 0.991254320544323}"
      ]
     },
     "execution_count": 37,
     "metadata": {},
     "output_type": "execute_result"
    }
   ],
   "source": [
    "%%time\n",
    "reg = XGBRegressor()\n",
    "reg.fit(X_train, y_train)\n",
    "{\n",
    "    'mse_val': mean_squared_error(y_val, reg.predict(X_val)),\n",
    "    'mse_train': mean_squared_error(y_train, reg.predict(X_train)),\n",
    "    'r2_val': r2_score(y_val, reg.predict(X_val)),\n",
    "    'r2_train': r2_score(y_train, reg.predict(X_train)),\n",
    "}\n"
   ]
  },
  {
   "cell_type": "code",
   "execution_count": 40,
   "metadata": {},
   "outputs": [
    {
     "name": "stdout",
     "output_type": "stream",
     "text": [
      "CPU times: total: 1min 55s\n",
      "Wall time: 39.2 s\n"
     ]
    },
    {
     "data": {
      "text/plain": [
       "{'mse_val': 0.19574570859872187,\n",
       " 'mse_train': 0.04209729726708903,\n",
       " 'r2_val': 0.8275206178077585,\n",
       " 'r2_train': 0.9639988394193753}"
      ]
     },
     "execution_count": 40,
     "metadata": {},
     "output_type": "execute_result"
    }
   ],
   "source": [
    "%%time\n",
    "reg = VGBRegressor()\n",
    "_ = reg.fit(X_train, y_train, complexity=True, n_random_models=5)\n",
    "{\n",
    "    'mse_val': mean_squared_error(y_val, reg.predict(X_val)),\n",
    "    'mse_train': mean_squared_error(y_train, reg.predict(X_train)),\n",
    "    'r2_val': r2_score(y_val, reg.predict(X_val)),\n",
    "    'r2_train': r2_score(y_train, reg.predict(X_train)),\n",
    "}\n"
   ]
  },
  {
   "cell_type": "code",
   "execution_count": 39,
   "metadata": {},
   "outputs": [
    {
     "name": "stdout",
     "output_type": "stream",
     "text": [
      "CPU times: total: 19.5 s\n",
      "Wall time: 5.48 s\n"
     ]
    },
    {
     "data": {
      "text/plain": [
       "{'mse_val': 0.19098225078735104,\n",
       " 'mse_train': 0.082900097093201,\n",
       " 'r2_val': 0.8317178912309441,\n",
       " 'r2_train': 0.9291047192729177}"
      ]
     },
     "execution_count": 39,
     "metadata": {},
     "output_type": "execute_result"
    }
   ],
   "source": [
    "%%time\n",
    "reg = VGBRegressor()\n",
    "_ = reg.fit(X_train, y_train, light=False, n_random_models=5)\n",
    "{\n",
    "    'mse_val': mean_squared_error(y_val, reg.predict(X_val)),\n",
    "    'mse_train': mean_squared_error(y_train, reg.predict(X_train)),\n",
    "    'r2_val': r2_score(y_val, reg.predict(X_val)),\n",
    "    'r2_train': r2_score(y_train, reg.predict(X_train)),\n",
    "}\n"
   ]
  },
  {
   "cell_type": "code",
   "execution_count": 41,
   "metadata": {},
   "outputs": [],
   "source": [
    "X_train, X_val, y_train, y_val = train_test_split(\n",
    "    X[:10000], y[:10000], train_size=.7,)"
   ]
  },
  {
   "cell_type": "code",
   "execution_count": 42,
   "metadata": {},
   "outputs": [
    {
     "name": "stdout",
     "output_type": "stream",
     "text": [
      "CPU times: total: 2.72 s\n",
      "Wall time: 439 ms\n"
     ]
    },
    {
     "data": {
      "text/plain": [
       "{'mse_val': 0.18971173917474976,\n",
       " 'mse_train': 0.030840499867203792,\n",
       " 'r2_val': 0.8597163388002005,\n",
       " 'r2_train': 0.9773612058550046}"
      ]
     },
     "execution_count": 42,
     "metadata": {},
     "output_type": "execute_result"
    }
   ],
   "source": [
    "%%time\n",
    "reg = XGBRegressor()\n",
    "reg.fit(X_train, y_train)\n",
    "{\n",
    "    'mse_val': mean_squared_error(y_val, reg.predict(X_val)),\n",
    "    'mse_train': mean_squared_error(y_train, reg.predict(X_train)),\n",
    "    'r2_val': r2_score(y_val, reg.predict(X_val)),\n",
    "    'r2_train': r2_score(y_train, reg.predict(X_train)),\n",
    "}\n"
   ]
  },
  {
   "cell_type": "code",
   "execution_count": 43,
   "metadata": {},
   "outputs": [
    {
     "name": "stdout",
     "output_type": "stream",
     "text": [
      "CPU times: total: 3min 40s\n",
      "Wall time: 1min 14s\n"
     ]
    },
    {
     "data": {
      "text/plain": [
       "{'mse_val': 0.18241136749321382,\n",
       " 'mse_train': 0.11526856747542355,\n",
       " 'r2_val': 0.8651146492688101,\n",
       " 'r2_train': 0.9153858925211635}"
      ]
     },
     "execution_count": 43,
     "metadata": {},
     "output_type": "execute_result"
    }
   ],
   "source": [
    "%%time\n",
    "reg = VGBRegressor()\n",
    "_ = reg.fit(X_train, y_train, complexity=True, n_random_models=5)\n",
    "{\n",
    "    'mse_val': mean_squared_error(y_val, reg.predict(X_val)),\n",
    "    'mse_train': mean_squared_error(y_train, reg.predict(X_train)),\n",
    "    'r2_val': r2_score(y_val, reg.predict(X_val)),\n",
    "    'r2_train': r2_score(y_train, reg.predict(X_train)),\n",
    "}\n"
   ]
  },
  {
   "cell_type": "code",
   "execution_count": 44,
   "metadata": {},
   "outputs": [
    {
     "name": "stdout",
     "output_type": "stream",
     "text": [
      "CPU times: total: 34.8 s\n",
      "Wall time: 18.3 s\n"
     ]
    },
    {
     "data": {
      "text/plain": [
       "{'mse_val': 0.1862854589591111,\n",
       " 'mse_train': 0.11878126080323766,\n",
       " 'r2_val': 0.8622499254671988,\n",
       " 'r2_train': 0.9128073629420289}"
      ]
     },
     "execution_count": 44,
     "metadata": {},
     "output_type": "execute_result"
    }
   ],
   "source": [
    "%%time\n",
    "reg = VGBRegressor()\n",
    "_ = reg.fit(X_train, y_train, light=False, n_random_models=5)\n",
    "{\n",
    "    'mse_val': mean_squared_error(y_val, reg.predict(X_val)),\n",
    "    'mse_train': mean_squared_error(y_train, reg.predict(X_train)),\n",
    "    'r2_val': r2_score(y_val, reg.predict(X_val)),\n",
    "    'r2_train': r2_score(y_train, reg.predict(X_train)),\n",
    "}\n"
   ]
  },
  {
   "cell_type": "code",
   "execution_count": 45,
   "metadata": {},
   "outputs": [],
   "source": [
    "X_train, X_val, y_train, y_val = train_test_split(\n",
    "    X[:15000], y[:15000], train_size=.7,)"
   ]
  },
  {
   "cell_type": "code",
   "execution_count": 46,
   "metadata": {},
   "outputs": [
    {
     "name": "stdout",
     "output_type": "stream",
     "text": [
      "CPU times: total: 3.89 s\n",
      "Wall time: 639 ms\n"
     ]
    },
    {
     "data": {
      "text/plain": [
       "{'mse_val': 0.18834848593680398,\n",
       " 'mse_train': 0.04930039228897205,\n",
       " 'r2_val': 0.8419366962411791,\n",
       " 'r2_train': 0.961380802464479}"
      ]
     },
     "execution_count": 46,
     "metadata": {},
     "output_type": "execute_result"
    }
   ],
   "source": [
    "%%time\n",
    "reg = XGBRegressor()\n",
    "reg.fit(X_train, y_train)\n",
    "{\n",
    "    'mse_val': mean_squared_error(y_val, reg.predict(X_val)),\n",
    "    'mse_train': mean_squared_error(y_train, reg.predict(X_train)),\n",
    "    'r2_val': r2_score(y_val, reg.predict(X_val)),\n",
    "    'r2_train': r2_score(y_train, reg.predict(X_train)),\n",
    "}\n"
   ]
  },
  {
   "cell_type": "code",
   "execution_count": 47,
   "metadata": {},
   "outputs": [
    {
     "name": "stdout",
     "output_type": "stream",
     "text": [
      "CPU times: total: 6min 38s\n",
      "Wall time: 2min 10s\n"
     ]
    },
    {
     "data": {
      "text/plain": [
       "{'mse_val': 0.18381579654183638,\n",
       " 'mse_train': 0.13497625216201362,\n",
       " 'r2_val': 0.8457405593681784,\n",
       " 'r2_train': 0.8942670777486872}"
      ]
     },
     "execution_count": 47,
     "metadata": {},
     "output_type": "execute_result"
    }
   ],
   "source": [
    "%%time\n",
    "reg = VGBRegressor()\n",
    "_ = reg.fit(X_train, y_train, complexity=True, n_random_models=5)\n",
    "{\n",
    "    'mse_val': mean_squared_error(y_val, reg.predict(X_val)),\n",
    "    'mse_train': mean_squared_error(y_train, reg.predict(X_train)),\n",
    "    'r2_val': r2_score(y_val, reg.predict(X_val)),\n",
    "    'r2_train': r2_score(y_train, reg.predict(X_train)),\n",
    "}\n"
   ]
  },
  {
   "cell_type": "code",
   "execution_count": 48,
   "metadata": {},
   "outputs": [
    {
     "name": "stdout",
     "output_type": "stream",
     "text": [
      "CPU times: total: 52.6 s\n",
      "Wall time: 26.7 s\n"
     ]
    },
    {
     "data": {
      "text/plain": [
       "{'mse_val': 0.18306020734505063,\n",
       " 'mse_train': 0.13699375433853303,\n",
       " 'r2_val': 0.8463746548541835,\n",
       " 'r2_train': 0.8926866782535542}"
      ]
     },
     "execution_count": 48,
     "metadata": {},
     "output_type": "execute_result"
    }
   ],
   "source": [
    "%%time\n",
    "reg = VGBRegressor()\n",
    "_ = reg.fit(X_train, y_train, light=False, n_random_models=5)\n",
    "{\n",
    "    'mse_val': mean_squared_error(y_val, reg.predict(X_val)),\n",
    "    'mse_train': mean_squared_error(y_train, reg.predict(X_train)),\n",
    "    'r2_val': r2_score(y_val, reg.predict(X_val)),\n",
    "    'r2_train': r2_score(y_train, reg.predict(X_train)),\n",
    "}\n"
   ]
  },
  {
   "cell_type": "code",
   "execution_count": 71,
   "metadata": {},
   "outputs": [],
   "source": [
    "X_train, X_val, y_train, y_val = train_test_split(\n",
    "    X[:20000], y[:20000], train_size=.7,)"
   ]
  },
  {
   "cell_type": "code",
   "execution_count": 72,
   "metadata": {},
   "outputs": [
    {
     "name": "stdout",
     "output_type": "stream",
     "text": [
      "CPU times: total: 5.05 s\n",
      "Wall time: 855 ms\n"
     ]
    },
    {
     "data": {
      "text/plain": [
       "{'mse_val': 0.24207434057412902,\n",
       " 'mse_train': 0.06853575465269869,\n",
       " 'r2_val': 0.8192389270506666,\n",
       " 'r2_train': 0.9487313012243933}"
      ]
     },
     "execution_count": 72,
     "metadata": {},
     "output_type": "execute_result"
    }
   ],
   "source": [
    "%%time\n",
    "reg = XGBRegressor()\n",
    "reg.fit(X_train, y_train)\n",
    "{\n",
    "    'mse_val': mean_squared_error(y_val, reg.predict(X_val)),\n",
    "    'mse_train': mean_squared_error(y_train, reg.predict(X_train)),\n",
    "    'r2_val': r2_score(y_val, reg.predict(X_val)),\n",
    "    'r2_train': r2_score(y_train, reg.predict(X_train)),\n",
    "}\n"
   ]
  },
  {
   "cell_type": "code",
   "execution_count": 76,
   "metadata": {},
   "outputs": [
    {
     "name": "stdout",
     "output_type": "stream",
     "text": [
      "CPU times: total: 9min 45s\n",
      "Wall time: 2min 59s\n"
     ]
    },
    {
     "data": {
      "text/plain": [
       "{'mse_val': 0.23771505080286465,\n",
       " 'mse_train': 0.15686953430891148,\n",
       " 'r2_val': 0.8224940836875986,\n",
       " 'r2_train': 0.8826525374629898}"
      ]
     },
     "execution_count": 76,
     "metadata": {},
     "output_type": "execute_result"
    }
   ],
   "source": [
    "%%time\n",
    "reg = VGBRegressor()\n",
    "_ = reg.fit(X_train, y_train, complexity=True, n_random_models=5)\n",
    "{\n",
    "    'mse_val': mean_squared_error(y_val, reg.predict(X_val)),\n",
    "    'mse_train': mean_squared_error(y_train, reg.predict(X_train)),\n",
    "    'r2_val': r2_score(y_val, reg.predict(X_val)),\n",
    "    'r2_train': r2_score(y_train, reg.predict(X_train)),\n",
    "}\n"
   ]
  },
  {
   "cell_type": "code",
   "execution_count": 75,
   "metadata": {},
   "outputs": [
    {
     "name": "stdout",
     "output_type": "stream",
     "text": [
      "CPU times: total: 45.3 s\n",
      "Wall time: 21.7 s\n"
     ]
    },
    {
     "data": {
      "text/plain": [
       "{'mse_val': 0.2353329874051367,\n",
       " 'mse_train': 0.1535519752392486,\n",
       " 'r2_val': 0.8242728113899458,\n",
       " 'r2_train': 0.88513426305972}"
      ]
     },
     "execution_count": 75,
     "metadata": {},
     "output_type": "execute_result"
    }
   ],
   "source": [
    "%%time\n",
    "reg = VGBRegressor()\n",
    "_ = reg.fit(X_train, y_train, light=False, n_random_models=5)\n",
    "{\n",
    "    'mse_val': mean_squared_error(y_val, reg.predict(X_val)),\n",
    "    'mse_train': mean_squared_error(y_train, reg.predict(X_train)),\n",
    "    'r2_val': r2_score(y_val, reg.predict(X_val)),\n",
    "    'r2_train': r2_score(y_train, reg.predict(X_train)),\n",
    "}\n"
   ]
  },
  {
   "attachments": {},
   "cell_type": "markdown",
   "metadata": {},
   "source": [
    "# Classification Datasets"
   ]
  },
  {
   "cell_type": "code",
   "execution_count": 4,
   "metadata": {},
   "outputs": [],
   "source": [
    "import pandas as pd"
   ]
  },
  {
   "cell_type": "code",
   "execution_count": 49,
   "metadata": {},
   "outputs": [],
   "source": [
    "df = pd.read_csv(r'../HIGGS.csv/HIGGS.csv', nrows=1000)\n",
    "y = df['1.000000000000000000e+00'] \n",
    "X = df.drop(['1.000000000000000000e+00'], axis=1)\n",
    "X_train, X_val, y_train, y_val = train_test_split(\n",
    "    X, y, train_size=.7,)"
   ]
  },
  {
   "cell_type": "code",
   "execution_count": 50,
   "metadata": {},
   "outputs": [
    {
     "name": "stdout",
     "output_type": "stream",
     "text": [
      "CPU times: total: 906 ms\n",
      "Wall time: 202 ms\n"
     ]
    },
    {
     "data": {
      "text/plain": [
       "{'f1_val': 0.7218934911242603,\n",
       " 'f1_train': 1.0,\n",
       " 'roc_auc_score_val': 0.6815201391676703,\n",
       " 'roc_auc_score_train': 1.0}"
      ]
     },
     "execution_count": 50,
     "metadata": {},
     "output_type": "execute_result"
    }
   ],
   "source": [
    "%%time\n",
    "clf = XGBClassifier()\n",
    "clf.fit(X_train, y_train)\n",
    "{\n",
    "    'f1_val': f1_score(y_val, clf.predict(X_val)),\n",
    "    'f1_train': f1_score(y_train, clf.predict(X_train)),\n",
    "    'roc_auc_score_val': roc_auc_score(y_val, clf.predict(X_val)),\n",
    "    'roc_auc_score_train': roc_auc_score(y_train, clf.predict(X_train)),\n",
    "}\n"
   ]
  },
  {
   "cell_type": "code",
   "execution_count": 51,
   "metadata": {},
   "outputs": [
    {
     "name": "stdout",
     "output_type": "stream",
     "text": [
      "CPU times: total: 1min 54s\n",
      "Wall time: 31 s\n"
     ]
    },
    {
     "data": {
      "text/plain": [
       "{'f1_val': 0.7377521613832854,\n",
       " 'f1_train': 0.9311224489795917,\n",
       " 'roc_auc_score_val': 0.6897497658236318,\n",
       " 'roc_auc_score_train': 0.9194414961452703}"
      ]
     },
     "execution_count": 51,
     "metadata": {},
     "output_type": "execute_result"
    }
   ],
   "source": [
    "%%time\n",
    "reg = VGBClassifier()\n",
    "_ = reg.fit(X_train, y_train, light=False, n_random_models=10)\n",
    "{\n",
    "    'f1_val': f1_score(y_val, reg.predict(X_val)),\n",
    "    'f1_train': f1_score(y_train, reg.predict(X_train)),\n",
    "    'roc_auc_score_val': roc_auc_score(y_val, reg.predict(X_val)),\n",
    "    'roc_auc_score_train': roc_auc_score(y_train, reg.predict(X_train)),\n",
    "}\n"
   ]
  },
  {
   "cell_type": "code",
   "execution_count": 54,
   "metadata": {},
   "outputs": [
    {
     "name": "stdout",
     "output_type": "stream",
     "text": [
      "CPU times: total: 3min 35s\n",
      "Wall time: 1min 30s\n"
     ]
    },
    {
     "data": {
      "text/plain": [
       "{'f1_val': 0.7365439093484418,\n",
       " 'f1_train': 0.9238578680203046,\n",
       " 'roc_auc_score_val': 0.6818546768366118,\n",
       " 'roc_auc_score_train': 0.9102921695916536}"
      ]
     },
     "execution_count": 54,
     "metadata": {},
     "output_type": "execute_result"
    }
   ],
   "source": [
    "%%time\n",
    "clf = VGBClassifier()\n",
    "_ = clf.fit(X_train, y_train, complexity=True, n_random_models=5)\n",
    "{\n",
    "    'f1_val': f1_score(y_val, clf.predict(X_val)),\n",
    "    'f1_train': f1_score(y_train, clf.predict(X_train)),\n",
    "    'roc_auc_score_val': roc_auc_score(y_val, clf.predict(X_val)),\n",
    "    'roc_auc_score_train': roc_auc_score(y_train, clf.predict(X_train)),\n",
    "}"
   ]
  },
  {
   "cell_type": "code",
   "execution_count": 29,
   "metadata": {},
   "outputs": [],
   "source": [
    "df = pd.read_csv(r'../HIGGS.csv/HIGGS.csv', nrows=10000)\n",
    "y = df['1.000000000000000000e+00'] \n",
    "X = df.drop(['1.000000000000000000e+00'], axis=1)\n",
    "X_train, X_val, y_train, y_val = train_test_split(\n",
    "    X, y, train_size=.7,)"
   ]
  },
  {
   "cell_type": "code",
   "execution_count": 46,
   "metadata": {},
   "outputs": [
    {
     "name": "stdout",
     "output_type": "stream",
     "text": [
      "CPU times: total: 3.52 s\n",
      "Wall time: 759 ms\n"
     ]
    },
    {
     "data": {
      "text/plain": [
       "{'f1_val': 0.6847073631214602,\n",
       " 'f1_train': 1.0,\n",
       " 'roc_auc_score_val': 0.6653838152693989,\n",
       " 'roc_auc_score_train': 1.0}"
      ]
     },
     "execution_count": 46,
     "metadata": {},
     "output_type": "execute_result"
    }
   ],
   "source": [
    "%%time\n",
    "clf = XGBClassifier()\n",
    "clf.fit(X_train, y_train)\n",
    "{\n",
    "    'f1_val': f1_score(y_val, clf.predict(X_val)),\n",
    "    'f1_train': f1_score(y_train, clf.predict(X_train)),\n",
    "    'roc_auc_score_val': roc_auc_score(y_val, clf.predict(X_val)),\n",
    "    'roc_auc_score_train': roc_auc_score(y_train, clf.predict(X_train)),\n",
    "}\n"
   ]
  },
  {
   "cell_type": "code",
   "execution_count": 37,
   "metadata": {},
   "outputs": [
    {
     "name": "stdout",
     "output_type": "stream",
     "text": [
      "CPU times: total: 10min 54s\n",
      "Wall time: 3min 57s\n"
     ]
    },
    {
     "data": {
      "text/plain": [
       "{'f1_val': 0.718856787822305,\n",
       " 'f1_train': 0.7798675496688741,\n",
       " 'roc_auc_score_val': 0.6964433655516458,\n",
       " 'roc_auc_score_train': 0.7606639684410063}"
      ]
     },
     "execution_count": 37,
     "metadata": {},
     "output_type": "execute_result"
    }
   ],
   "source": [
    "%%time\n",
    "clf = VGBClassifier()\n",
    "_ = clf.fit(X_train, y_train, complexity=True, n_random_models=5)\n",
    "{\n",
    "    'f1_val': f1_score(y_val, clf.predict(X_val)),\n",
    "    'f1_train': f1_score(y_train, clf.predict(X_train)),\n",
    "    'roc_auc_score_val': roc_auc_score(y_val, clf.predict(X_val)),\n",
    "    'roc_auc_score_train': roc_auc_score(y_train, clf.predict(X_train)),\n",
    "}"
   ]
  },
  {
   "cell_type": "code",
   "execution_count": 39,
   "metadata": {},
   "outputs": [
    {
     "name": "stdout",
     "output_type": "stream",
     "text": [
      "CPU times: total: 4min\n",
      "Wall time: 1min 10s\n"
     ]
    },
    {
     "data": {
      "text/plain": [
       "{'f1_val': 0.7180768029971901,\n",
       " 'f1_train': 0.8935831008369868,\n",
       " 'roc_auc_score_val': 0.6973609193354415,\n",
       " 'roc_auc_score_train': 0.8843864952097957}"
      ]
     },
     "execution_count": 39,
     "metadata": {},
     "output_type": "execute_result"
    }
   ],
   "source": [
    "%%time\n",
    "reg = VGBClassifier()\n",
    "_ = reg.fit(X_train, y_train, light=False, n_random_models=10)\n",
    "{\n",
    "    'f1_val': f1_score(y_val, reg.predict(X_val)),\n",
    "    'f1_train': f1_score(y_train, reg.predict(X_train)),\n",
    "    'roc_auc_score_val': roc_auc_score(y_val, reg.predict(X_val)),\n",
    "    'roc_auc_score_train': roc_auc_score(y_train, reg.predict(X_train)),\n",
    "}\n"
   ]
  },
  {
   "cell_type": "code",
   "execution_count": 56,
   "metadata": {},
   "outputs": [],
   "source": [
    "df = pd.read_csv(r'../HIGGS.csv/HIGGS.csv', nrows=20000)\n",
    "y = df['1.000000000000000000e+00'] \n",
    "X = df.drop(['1.000000000000000000e+00'], axis=1)\n",
    "X_train, X_val, y_train, y_val = train_test_split(\n",
    "    X, y, train_size=.7,)"
   ]
  },
  {
   "cell_type": "code",
   "execution_count": 57,
   "metadata": {},
   "outputs": [
    {
     "name": "stdout",
     "output_type": "stream",
     "text": [
      "CPU times: total: 12.3 s\n",
      "Wall time: 2.17 s\n"
     ]
    },
    {
     "data": {
      "text/plain": [
       "{'f1_val': 0.7068450039339104,\n",
       " 'f1_train': 0.9497025419145484,\n",
       " 'roc_auc_score_val': 0.6882296215305839,\n",
       " 'roc_auc_score_train': 0.946265943135645}"
      ]
     },
     "execution_count": 57,
     "metadata": {},
     "output_type": "execute_result"
    }
   ],
   "source": [
    "%%time\n",
    "clf = XGBClassifier()\n",
    "clf.fit(X_train, y_train)\n",
    "{\n",
    "    'f1_val': f1_score(y_val, clf.predict(X_val)),\n",
    "    'f1_train': f1_score(y_train, clf.predict(X_train)),\n",
    "    'roc_auc_score_val': roc_auc_score(y_val, clf.predict(X_val)),\n",
    "    'roc_auc_score_train': roc_auc_score(y_train, clf.predict(X_train)),\n",
    "}\n"
   ]
  },
  {
   "cell_type": "code",
   "execution_count": 58,
   "metadata": {},
   "outputs": [
    {
     "name": "stdout",
     "output_type": "stream",
     "text": [
      "CPU times: total: 26min 9s\n",
      "Wall time: 9min\n"
     ]
    },
    {
     "data": {
      "text/plain": [
       "{'f1_val': 0.7142628973007507,\n",
       " 'f1_train': 0.7817722900607137,\n",
       " 'roc_auc_score_val': 0.701283166436789,\n",
       " 'roc_auc_score_train': 0.7709729726280532}"
      ]
     },
     "execution_count": 58,
     "metadata": {},
     "output_type": "execute_result"
    }
   ],
   "source": [
    "%%time\n",
    "clf = VGBClassifier()\n",
    "_ = clf.fit(X_train, y_train, complexity=True, n_random_models=5)\n",
    "{\n",
    "    'f1_val': f1_score(y_val, clf.predict(X_val)),\n",
    "    'f1_train': f1_score(y_train, clf.predict(X_train)),\n",
    "    'roc_auc_score_val': roc_auc_score(y_val, clf.predict(X_val)),\n",
    "    'roc_auc_score_train': roc_auc_score(y_train, clf.predict(X_train)),\n",
    "}"
   ]
  },
  {
   "cell_type": "code",
   "execution_count": 59,
   "metadata": {},
   "outputs": [
    {
     "name": "stdout",
     "output_type": "stream",
     "text": [
      "CPU times: total: 5min 30s\n",
      "Wall time: 1min 44s\n"
     ]
    },
    {
     "data": {
      "text/plain": [
       "{'f1_val': 0.7095034110740916,\n",
       " 'f1_train': 0.9301626349596829,\n",
       " 'roc_auc_score_val': 0.693958436754194,\n",
       " 'roc_auc_score_train': 0.9268896565016514}"
      ]
     },
     "execution_count": 59,
     "metadata": {},
     "output_type": "execute_result"
    }
   ],
   "source": [
    "%%time\n",
    "reg = VGBClassifier()\n",
    "_ = reg.fit(X_train, y_train, light=False, n_random_models=10)\n",
    "{\n",
    "    'f1_val': f1_score(y_val, reg.predict(X_val)),\n",
    "    'f1_train': f1_score(y_train, reg.predict(X_train)),\n",
    "    'roc_auc_score_val': roc_auc_score(y_val, reg.predict(X_val)),\n",
    "    'roc_auc_score_train': roc_auc_score(y_train, reg.predict(X_train)),\n",
    "}\n"
   ]
  },
  {
   "cell_type": "code",
   "execution_count": 60,
   "metadata": {},
   "outputs": [],
   "source": [
    "df = pd.read_csv(r'../HIGGS.csv/HIGGS.csv', nrows=30000)\n",
    "y = df['1.000000000000000000e+00'] \n",
    "X = df.drop(['1.000000000000000000e+00'], axis=1)\n",
    "X_train, X_val, y_train, y_val = train_test_split(\n",
    "    X, y, train_size=.7,)"
   ]
  },
  {
   "cell_type": "code",
   "execution_count": 61,
   "metadata": {},
   "outputs": [
    {
     "name": "stdout",
     "output_type": "stream",
     "text": [
      "CPU times: total: 18.2 s\n",
      "Wall time: 3.03 s\n"
     ]
    },
    {
     "data": {
      "text/plain": [
       "{'f1_val': 0.7204088017520075,\n",
       " 'f1_train': 0.9165632204291541,\n",
       " 'roc_auc_score_val': 0.700599802440368,\n",
       " 'roc_auc_score_train': 0.9090959517672835}"
      ]
     },
     "execution_count": 61,
     "metadata": {},
     "output_type": "execute_result"
    }
   ],
   "source": [
    "%%time\n",
    "clf = XGBClassifier()\n",
    "clf.fit(X_train, y_train)\n",
    "{\n",
    "    'f1_val': f1_score(y_val, clf.predict(X_val)),\n",
    "    'f1_train': f1_score(y_train, clf.predict(X_train)),\n",
    "    'roc_auc_score_val': roc_auc_score(y_val, clf.predict(X_val)),\n",
    "    'roc_auc_score_train': roc_auc_score(y_train, clf.predict(X_train)),\n",
    "}\n"
   ]
  },
  {
   "cell_type": "code",
   "execution_count": 62,
   "metadata": {},
   "outputs": [
    {
     "name": "stdout",
     "output_type": "stream",
     "text": [
      "CPU times: total: 1h 43min 17s\n",
      "Wall time: 42min 37s\n"
     ]
    },
    {
     "data": {
      "text/plain": [
       "{'f1_val': 0.7220534311157675,\n",
       " 'f1_train': 0.8113837794504075,\n",
       " 'roc_auc_score_val': 0.7039209571510887,\n",
       " 'roc_auc_score_train': 0.7969676951749712}"
      ]
     },
     "execution_count": 62,
     "metadata": {},
     "output_type": "execute_result"
    }
   ],
   "source": [
    "%%time\n",
    "clf = VGBClassifier()\n",
    "_ = clf.fit(X_train, y_train, complexity=True, n_random_models=5)\n",
    "{\n",
    "    'f1_val': f1_score(y_val, clf.predict(X_val)),\n",
    "    'f1_train': f1_score(y_train, clf.predict(X_train)),\n",
    "    'roc_auc_score_val': roc_auc_score(y_val, clf.predict(X_val)),\n",
    "    'roc_auc_score_train': roc_auc_score(y_train, clf.predict(X_train)),\n",
    "}"
   ]
  },
  {
   "cell_type": "code",
   "execution_count": 64,
   "metadata": {},
   "outputs": [
    {
     "name": "stdout",
     "output_type": "stream",
     "text": [
      "CPU times: total: 4min 24s\n",
      "Wall time: 1min 28s\n"
     ]
    },
    {
     "data": {
      "text/plain": [
       "{'f1_val': 0.7291229542593369,\n",
       " 'f1_train': 0.8110898491388902,\n",
       " 'roc_auc_score_val': 0.7118840904341879,\n",
       " 'roc_auc_score_train': 0.7964414179426588}"
      ]
     },
     "execution_count": 64,
     "metadata": {},
     "output_type": "execute_result"
    }
   ],
   "source": [
    "%%time\n",
    "reg = VGBClassifier()\n",
    "_ = reg.fit(X_train, y_train, light=False, n_random_models=5)\n",
    "{\n",
    "    'f1_val': f1_score(y_val, reg.predict(X_val)),\n",
    "    'f1_train': f1_score(y_train, reg.predict(X_train)),\n",
    "    'roc_auc_score_val': roc_auc_score(y_val, reg.predict(X_val)),\n",
    "    'roc_auc_score_train': roc_auc_score(y_train, reg.predict(X_train)),\n",
    "}\n"
   ]
  },
  {
   "cell_type": "code",
   "execution_count": 65,
   "metadata": {},
   "outputs": [],
   "source": [
    "df = pd.read_csv(r'../HIGGS.csv/HIGGS.csv', nrows=40000)\n",
    "y = df['1.000000000000000000e+00'] \n",
    "X = df.drop(['1.000000000000000000e+00'], axis=1)\n",
    "X_train, X_val, y_train, y_val = train_test_split(\n",
    "    X, y, train_size=.7,)"
   ]
  },
  {
   "cell_type": "code",
   "execution_count": 66,
   "metadata": {},
   "outputs": [
    {
     "name": "stdout",
     "output_type": "stream",
     "text": [
      "CPU times: total: 23 s\n",
      "Wall time: 3.64 s\n"
     ]
    },
    {
     "data": {
      "text/plain": [
       "{'f1_val': 0.7238419302451474,\n",
       " 'f1_train': 0.8907512919040679,\n",
       " 'roc_auc_score_val': 0.7002745562668508,\n",
       " 'roc_auc_score_train': 0.8807396776457758}"
      ]
     },
     "execution_count": 66,
     "metadata": {},
     "output_type": "execute_result"
    }
   ],
   "source": [
    "%%time\n",
    "clf = XGBClassifier()\n",
    "clf.fit(X_train, y_train)\n",
    "{\n",
    "    'f1_val': f1_score(y_val, clf.predict(X_val)),\n",
    "    'f1_train': f1_score(y_train, clf.predict(X_train)),\n",
    "    'roc_auc_score_val': roc_auc_score(y_val, clf.predict(X_val)),\n",
    "    'roc_auc_score_train': roc_auc_score(y_train, clf.predict(X_train)),\n",
    "}\n"
   ]
  },
  {
   "cell_type": "code",
   "execution_count": 67,
   "metadata": {},
   "outputs": [],
   "source": [
    "%%time\n",
    "clf = VGBClassifier()\n",
    "_ = clf.fit(X_train, y_train, complexity=True, n_random_models=5)\n",
    "{\n",
    "    'f1_val': f1_score(y_val, clf.predict(X_val)),\n",
    "    'f1_train': f1_score(y_train, clf.predict(X_train)),\n",
    "    'roc_auc_score_val': roc_auc_score(y_val, clf.predict(X_val)),\n",
    "    'roc_auc_score_train': roc_auc_score(y_train, clf.predict(X_train)),\n",
    "}"
   ]
  },
  {
   "cell_type": "code",
   "execution_count": null,
   "metadata": {},
   "outputs": [],
   "source": [
    "%%time\n",
    "reg = VGBClassifier()\n",
    "_ = reg.fit(X_train, y_train, light=False, n_random_models=5)\n",
    "{\n",
    "    'f1_val': f1_score(y_val, reg.predict(X_val)),\n",
    "    'f1_train': f1_score(y_train, reg.predict(X_train)),\n",
    "    'roc_auc_score_val': roc_auc_score(y_val, reg.predict(X_val)),\n",
    "    'roc_auc_score_train': roc_auc_score(y_train, reg.predict(X_train)),\n",
    "}\n"
   ]
  },
  {
   "cell_type": "code",
   "execution_count": null,
   "metadata": {},
   "outputs": [],
   "source": [
    "df = pd.read_csv(r'../HIGGS.csv/HIGGS.csv', nrows=50000)\n",
    "y = df['1.000000000000000000e+00'] \n",
    "X = df.drop(['1.000000000000000000e+00'], axis=1)\n",
    "X_train, X_val, y_train, y_val = train_test_split(\n",
    "    X, y, train_size=.7,)"
   ]
  },
  {
   "cell_type": "code",
   "execution_count": null,
   "metadata": {},
   "outputs": [],
   "source": [
    "%%time\n",
    "clf = XGBClassifier()\n",
    "clf.fit(X_train, y_train)\n",
    "{\n",
    "    'f1_val': f1_score(y_val, clf.predict(X_val)),\n",
    "    'f1_train': f1_score(y_train, clf.predict(X_train)),\n",
    "    'roc_auc_score_val': roc_auc_score(y_val, clf.predict(X_val)),\n",
    "    'roc_auc_score_train': roc_auc_score(y_train, clf.predict(X_train)),\n",
    "}\n"
   ]
  },
  {
   "cell_type": "code",
   "execution_count": null,
   "metadata": {},
   "outputs": [],
   "source": [
    "%%time\n",
    "clf = VGBClassifier()\n",
    "_ = clf.fit(X_train, y_train, complexity=True, n_random_models=5)\n",
    "{\n",
    "    'f1_val': f1_score(y_val, clf.predict(X_val)),\n",
    "    'f1_train': f1_score(y_train, clf.predict(X_train)),\n",
    "    'roc_auc_score_val': roc_auc_score(y_val, clf.predict(X_val)),\n",
    "    'roc_auc_score_train': roc_auc_score(y_train, clf.predict(X_train)),\n",
    "}"
   ]
  },
  {
   "cell_type": "code",
   "execution_count": null,
   "metadata": {},
   "outputs": [],
   "source": [
    "%%time\n",
    "reg = VGBClassifier()\n",
    "_ = reg.fit(X_train, y_train, light=False, n_random_models=5)\n",
    "{\n",
    "    'f1_val': f1_score(y_val, reg.predict(X_val)),\n",
    "    'f1_train': f1_score(y_train, reg.predict(X_train)),\n",
    "    'roc_auc_score_val': roc_auc_score(y_val, reg.predict(X_val)),\n",
    "    'roc_auc_score_train': roc_auc_score(y_train, reg.predict(X_train)),\n",
    "}\n"
   ]
  },
  {
   "cell_type": "code",
   "execution_count": null,
   "metadata": {},
   "outputs": [],
   "source": []
  }
 ],
 "metadata": {
  "kernelspec": {
   "display_name": "Python 3.8.7 ('env': venv)",
   "language": "python",
   "name": "python3"
  },
  "language_info": {
   "codemirror_mode": {
    "name": "ipython",
    "version": 3
   },
   "file_extension": ".py",
   "mimetype": "text/x-python",
   "name": "python",
   "nbconvert_exporter": "python",
   "pygments_lexer": "ipython3",
   "version": "3.8.7"
  },
  "orig_nbformat": 4,
  "vscode": {
   "interpreter": {
    "hash": "023b056bc26a3a4ec4ccb849012e9ec0a7e7339a1d248e7ddb8294afb0b6c3ca"
   }
  }
 },
 "nbformat": 4,
 "nbformat_minor": 2
}
