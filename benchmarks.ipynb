{
 "cells": [
  {
   "cell_type": "code",
   "execution_count": 2,
   "metadata": {},
   "outputs": [],
   "source": [
    "from VGBoost import VGBRegressor, VGBClassifier\n",
    "import warnings\n",
    "warnings.filterwarnings(\"ignore\")\n",
    "from sklearn.linear_model import ElasticNet, Lasso\n",
    "from sklearn.preprocessing import StandardScaler"
   ]
  },
  {
   "cell_type": "code",
   "execution_count": 3,
   "metadata": {},
   "outputs": [],
   "source": [
    "from sklearn.metrics import mean_squared_error, r2_score, f1_score, roc_auc_score, auc\n",
    "from sklearn.model_selection import train_test_split"
   ]
  },
  {
   "cell_type": "code",
   "execution_count": 4,
   "metadata": {},
   "outputs": [],
   "source": [
    "from xgboost import XGBRegressor, XGBClassifier\n",
    "import pandas as pd"
   ]
  },
  {
   "attachments": {},
   "cell_type": "markdown",
   "metadata": {},
   "source": [
    "# Regression Benchmarks"
   ]
  },
  {
   "cell_type": "code",
   "execution_count": 97,
   "metadata": {},
   "outputs": [],
   "source": [
    "df_ = pd.read_csv(r'../dataset/accelerometer.csv')\n",
    "df = df_.sample(100000).reset_index(drop=True)"
   ]
  },
  {
   "attachments": {},
   "cell_type": "markdown",
   "metadata": {},
   "source": [
    "@article{ScalabriniSampaio2019,\n",
    "doi = {10.3390/s19194342},\n",
    "url = {[Web Link]},\n",
    "author = {Gustavo Scalabrini Sampaio and Arnaldo Rabello de Aguiar Vallim Filho and Leilton Santos da Silva and Leandro Augusto da Silva},\n",
    "title = {Prediction of Motor Failure Time Using An Artificial Neural Network},\n",
    "journal = {Sensors}\n",
    "year = {2019},\n",
    "month = oct,\n",
    "publisher = {{MDPI} {AG}},\n",
    "volume = {19},\n",
    "number = {19},\n",
    "pages = {4342},\n",
    "}"
   ]
  },
  {
   "cell_type": "code",
   "execution_count": 98,
   "metadata": {},
   "outputs": [],
   "source": [
    "y = df['pctid']\n",
    "X = StandardScaler().fit_transform(df.drop('pctid', axis=1))\n",
    "X_train, X_val, y_train, y_val = train_test_split(\n",
    "    X[:10000], y[:10000], train_size=.7,)"
   ]
  },
  {
   "cell_type": "code",
   "execution_count": 99,
   "metadata": {},
   "outputs": [
    {
     "name": "stdout",
     "output_type": "stream",
     "text": [
      "CPU times: total: 0 ns\n",
      "Wall time: 6.99 ms\n"
     ]
    },
    {
     "data": {
      "text/plain": [
       "{'mse_val': 607.0144486374021,\n",
       " 'mse_train': 605.9989892957499,\n",
       " 'r2_val': -8.513477190108532e-05,\n",
       " 'r2_train': 5.116687876538517e-05}"
      ]
     },
     "execution_count": 99,
     "metadata": {},
     "output_type": "execute_result"
    }
   ],
   "source": [
    "%%time\n",
    "reg = ElasticNet()\n",
    "reg.fit(X_train, y_train)\n",
    "{\n",
    "    'mse_val': mean_squared_error(y_val, reg.predict(X_val)),\n",
    "    'mse_train': mean_squared_error(y_train, reg.predict(X_train)),\n",
    "    'r2_val': r2_score(y_val, reg.predict(X_val)),\n",
    "    'r2_train': r2_score(y_train, reg.predict(X_train)),\n",
    "}\n"
   ]
  },
  {
   "cell_type": "code",
   "execution_count": 100,
   "metadata": {},
   "outputs": [
    {
     "name": "stdout",
     "output_type": "stream",
     "text": [
      "CPU times: total: 31.2 ms\n",
      "Wall time: 7.99 ms\n"
     ]
    },
    {
     "data": {
      "text/plain": [
       "{'mse_val': 607.0002448979591,\n",
       " 'mse_train': 606.0299979591837,\n",
       " 'r2_val': -6.173343655069274e-05,\n",
       " 'r2_train': 0.0}"
      ]
     },
     "execution_count": 100,
     "metadata": {},
     "output_type": "execute_result"
    }
   ],
   "source": [
    "%%time\n",
    "reg = Lasso()\n",
    "reg.fit(X_train, y_train)\n",
    "{\n",
    "    'mse_val': mean_squared_error(y_val, reg.predict(X_val)),\n",
    "    'mse_train': mean_squared_error(y_train, reg.predict(X_train)),\n",
    "    'r2_val': r2_score(y_val, reg.predict(X_val)),\n",
    "    'r2_train': r2_score(y_train, reg.predict(X_train)),\n",
    "}\n"
   ]
  },
  {
   "cell_type": "code",
   "execution_count": 101,
   "metadata": {},
   "outputs": [
    {
     "name": "stdout",
     "output_type": "stream",
     "text": [
      "CPU times: total: 1.53 s\n",
      "Wall time: 261 ms\n"
     ]
    },
    {
     "data": {
      "text/plain": [
       "{'mse_val': 118.30768874943043,\n",
       " 'mse_train': 54.78913399438466,\n",
       " 'r2_val': 0.805082463666029,\n",
       " 'r2_train': 0.9095933630696698}"
      ]
     },
     "execution_count": 101,
     "metadata": {},
     "output_type": "execute_result"
    }
   ],
   "source": [
    "%%time\n",
    "reg = XGBRegressor()\n",
    "reg.fit(X_train, y_train)\n",
    "{\n",
    "    'mse_val': mean_squared_error(y_val, reg.predict(X_val)),\n",
    "    'mse_train': mean_squared_error(y_train, reg.predict(X_train)),\n",
    "    'r2_val': r2_score(y_val, reg.predict(X_val)),\n",
    "    'r2_train': r2_score(y_train, reg.predict(X_train)),\n",
    "}\n"
   ]
  },
  {
   "cell_type": "code",
   "execution_count": 102,
   "metadata": {},
   "outputs": [
    {
     "name": "stdout",
     "output_type": "stream",
     "text": [
      "CPU times: total: 1min 1s\n",
      "Wall time: 16.9 s\n"
     ]
    },
    {
     "data": {
      "text/plain": [
       "{'mse_val': 112.06149892999383,\n",
       " 'mse_train': 83.05902320763165,\n",
       " 'r2_val': 0.8153733580613839,\n",
       " 'r2_train': 0.8629456900032435}"
      ]
     },
     "execution_count": 102,
     "metadata": {},
     "output_type": "execute_result"
    }
   ],
   "source": [
    "%%time\n",
    "reg = VGBRegressor()\n",
    "reg.fit(X_train, y_train, light=False, n_random_models=10)\n",
    "{\n",
    "    'mse_val': mean_squared_error(y_val, reg.predict(X_val)),\n",
    "    'mse_train': mean_squared_error(y_train, reg.predict(X_train)),\n",
    "    'r2_val': r2_score(y_val, reg.predict(X_val)),\n",
    "    'r2_train': r2_score(y_train, reg.predict(X_train)),\n",
    "}"
   ]
  },
  {
   "cell_type": "code",
   "execution_count": 103,
   "metadata": {},
   "outputs": [
    {
     "name": "stdout",
     "output_type": "stream",
     "text": [
      "CPU times: total: 2min 39s\n",
      "Wall time: 1min 1s\n"
     ]
    },
    {
     "data": {
      "text/plain": [
       "{'mse_val': 114.29188226564861,\n",
       " 'mse_train': 83.21552376524649,\n",
       " 'r2_val': 0.8116986955820337,\n",
       " 'r2_train': 0.8626874510412419}"
      ]
     },
     "execution_count": 103,
     "metadata": {},
     "output_type": "execute_result"
    }
   ],
   "source": [
    "%%time\n",
    "reg = VGBRegressor()\n",
    "_ = reg.fit(X_train, y_train, complexity=True, n_random_models=5)\n",
    "{\n",
    "    'mse_val': mean_squared_error(y_val, reg.predict(X_val)),\n",
    "    'mse_train': mean_squared_error(y_train, reg.predict(X_train)),\n",
    "    'r2_val': r2_score(y_val, reg.predict(X_val)),\n",
    "    'r2_train': r2_score(y_train, reg.predict(X_train)),\n",
    "}\n"
   ]
  },
  {
   "cell_type": "code",
   "execution_count": 61,
   "metadata": {},
   "outputs": [],
   "source": [
    "X_train, X_val, y_train, y_val = train_test_split(\n",
    "    X[:10000], y[:10000], train_size=.7,)"
   ]
  },
  {
   "cell_type": "code",
   "execution_count": 62,
   "metadata": {},
   "outputs": [
    {
     "name": "stdout",
     "output_type": "stream",
     "text": [
      "CPU times: total: 1.47 s\n",
      "Wall time: 273 ms\n"
     ]
    },
    {
     "data": {
      "text/plain": [
       "{'mse_val': 116.23552618541483,\n",
       " 'mse_train': 55.326614763974625,\n",
       " 'r2_val': 0.8041124678313587,\n",
       " 'r2_train': 0.908628169019718}"
      ]
     },
     "execution_count": 62,
     "metadata": {},
     "output_type": "execute_result"
    }
   ],
   "source": [
    "%%time\n",
    "reg = XGBRegressor()\n",
    "reg.fit(X_train, y_train)\n",
    "{\n",
    "    'mse_val': mean_squared_error(y_val, reg.predict(X_val)),\n",
    "    'mse_train': mean_squared_error(y_train, reg.predict(X_train)),\n",
    "    'r2_val': r2_score(y_val, reg.predict(X_val)),\n",
    "    'r2_train': r2_score(y_train, reg.predict(X_train)),\n",
    "}\n"
   ]
  },
  {
   "cell_type": "code",
   "execution_count": 63,
   "metadata": {},
   "outputs": [
    {
     "name": "stdout",
     "output_type": "stream",
     "text": [
      "CPU times: total: 37.8 s\n",
      "Wall time: 12.7 s\n"
     ]
    },
    {
     "data": {
      "text/plain": [
       "{'mse_val': 112.02283730892313,\n",
       " 'mse_train': 84.72363114366165,\n",
       " 'r2_val': 0.8112119601715396,\n",
       " 'r2_train': 0.8600790354168729}"
      ]
     },
     "execution_count": 63,
     "metadata": {},
     "output_type": "execute_result"
    }
   ],
   "source": [
    "%%time\n",
    "reg = VGBRegressor()\n",
    "_ = reg.fit(X_train, y_train, light=False, n_random_models=5)\n",
    "{\n",
    "    'mse_val': mean_squared_error(y_val, reg.predict(X_val)),\n",
    "    'mse_train': mean_squared_error(y_train, reg.predict(X_train)),\n",
    "    'r2_val': r2_score(y_val, reg.predict(X_val)),\n",
    "    'r2_train': r2_score(y_train, reg.predict(X_train)),\n",
    "}\n"
   ]
  },
  {
   "cell_type": "code",
   "execution_count": 64,
   "metadata": {},
   "outputs": [
    {
     "name": "stdout",
     "output_type": "stream",
     "text": [
      "CPU times: total: 3min 5s\n",
      "Wall time: 57.4 s\n"
     ]
    },
    {
     "data": {
      "text/plain": [
       "{'mse_val': 114.98742779305822,\n",
       " 'mse_train': 84.90745838617943,\n",
       " 'r2_val': 0.8062158429525965,\n",
       " 'r2_train': 0.8597754449694082}"
      ]
     },
     "execution_count": 64,
     "metadata": {},
     "output_type": "execute_result"
    }
   ],
   "source": [
    "%%time\n",
    "reg = VGBRegressor()\n",
    "_ = reg.fit(X_train, y_train, complexity=True, n_random_models=5)\n",
    "{\n",
    "    'mse_val': mean_squared_error(y_val, reg.predict(X_val)),\n",
    "    'mse_train': mean_squared_error(y_train, reg.predict(X_train)),\n",
    "    'r2_val': r2_score(y_val, reg.predict(X_val)),\n",
    "    'r2_train': r2_score(y_train, reg.predict(X_train)),\n",
    "}\n"
   ]
  },
  {
   "cell_type": "code",
   "execution_count": null,
   "metadata": {},
   "outputs": [],
   "source": [
    "X_train, X_val, y_train, y_val = train_test_split(\n",
    "    X[:5000], y[:5000], train_size=.7,)"
   ]
  },
  {
   "cell_type": "code",
   "execution_count": null,
   "metadata": {},
   "outputs": [
    {
     "name": "stdout",
     "output_type": "stream",
     "text": [
      "CPU times: total: 1.61 s\n",
      "Wall time: 307 ms\n"
     ]
    },
    {
     "data": {
      "text/plain": [
       "{'mse_val': 0.19497399050016945,\n",
       " 'mse_train': 0.010226599973736627,\n",
       " 'r2_val': 0.828200609526697,\n",
       " 'r2_train': 0.991254320544323}"
      ]
     },
     "execution_count": 37,
     "metadata": {},
     "output_type": "execute_result"
    }
   ],
   "source": [
    "%%time\n",
    "reg = XGBRegressor()\n",
    "reg.fit(X_train, y_train)\n",
    "{\n",
    "    'mse_val': mean_squared_error(y_val, reg.predict(X_val)),\n",
    "    'mse_train': mean_squared_error(y_train, reg.predict(X_train)),\n",
    "    'r2_val': r2_score(y_val, reg.predict(X_val)),\n",
    "    'r2_train': r2_score(y_train, reg.predict(X_train)),\n",
    "}\n"
   ]
  },
  {
   "cell_type": "code",
   "execution_count": null,
   "metadata": {},
   "outputs": [
    {
     "name": "stdout",
     "output_type": "stream",
     "text": [
      "CPU times: total: 1min 55s\n",
      "Wall time: 39.2 s\n"
     ]
    },
    {
     "data": {
      "text/plain": [
       "{'mse_val': 0.19574570859872187,\n",
       " 'mse_train': 0.04209729726708903,\n",
       " 'r2_val': 0.8275206178077585,\n",
       " 'r2_train': 0.9639988394193753}"
      ]
     },
     "execution_count": 40,
     "metadata": {},
     "output_type": "execute_result"
    }
   ],
   "source": [
    "%%time\n",
    "reg = VGBRegressor()\n",
    "_ = reg.fit(X_train, y_train, complexity=True, n_random_models=5)\n",
    "{\n",
    "    'mse_val': mean_squared_error(y_val, reg.predict(X_val)),\n",
    "    'mse_train': mean_squared_error(y_train, reg.predict(X_train)),\n",
    "    'r2_val': r2_score(y_val, reg.predict(X_val)),\n",
    "    'r2_train': r2_score(y_train, reg.predict(X_train)),\n",
    "}\n"
   ]
  },
  {
   "cell_type": "code",
   "execution_count": null,
   "metadata": {},
   "outputs": [
    {
     "name": "stdout",
     "output_type": "stream",
     "text": [
      "CPU times: total: 19.5 s\n",
      "Wall time: 5.48 s\n"
     ]
    },
    {
     "data": {
      "text/plain": [
       "{'mse_val': 0.19098225078735104,\n",
       " 'mse_train': 0.082900097093201,\n",
       " 'r2_val': 0.8317178912309441,\n",
       " 'r2_train': 0.9291047192729177}"
      ]
     },
     "execution_count": 39,
     "metadata": {},
     "output_type": "execute_result"
    }
   ],
   "source": [
    "%%time\n",
    "reg = VGBRegressor()\n",
    "_ = reg.fit(X_train, y_train, light=False, n_random_models=5)\n",
    "{\n",
    "    'mse_val': mean_squared_error(y_val, reg.predict(X_val)),\n",
    "    'mse_train': mean_squared_error(y_train, reg.predict(X_train)),\n",
    "    'r2_val': r2_score(y_val, reg.predict(X_val)),\n",
    "    'r2_train': r2_score(y_train, reg.predict(X_train)),\n",
    "}\n"
   ]
  },
  {
   "cell_type": "code",
   "execution_count": null,
   "metadata": {},
   "outputs": [],
   "source": [
    "X_train, X_val, y_train, y_val = train_test_split(\n",
    "    X[:10000], y[:10000], train_size=.7,)"
   ]
  },
  {
   "cell_type": "code",
   "execution_count": null,
   "metadata": {},
   "outputs": [
    {
     "name": "stdout",
     "output_type": "stream",
     "text": [
      "CPU times: total: 2.72 s\n",
      "Wall time: 439 ms\n"
     ]
    },
    {
     "data": {
      "text/plain": [
       "{'mse_val': 0.18971173917474976,\n",
       " 'mse_train': 0.030840499867203792,\n",
       " 'r2_val': 0.8597163388002005,\n",
       " 'r2_train': 0.9773612058550046}"
      ]
     },
     "execution_count": 42,
     "metadata": {},
     "output_type": "execute_result"
    }
   ],
   "source": [
    "%%time\n",
    "reg = XGBRegressor()\n",
    "reg.fit(X_train, y_train)\n",
    "{\n",
    "    'mse_val': mean_squared_error(y_val, reg.predict(X_val)),\n",
    "    'mse_train': mean_squared_error(y_train, reg.predict(X_train)),\n",
    "    'r2_val': r2_score(y_val, reg.predict(X_val)),\n",
    "    'r2_train': r2_score(y_train, reg.predict(X_train)),\n",
    "}\n"
   ]
  },
  {
   "cell_type": "code",
   "execution_count": null,
   "metadata": {},
   "outputs": [
    {
     "name": "stdout",
     "output_type": "stream",
     "text": [
      "CPU times: total: 3min 40s\n",
      "Wall time: 1min 14s\n"
     ]
    },
    {
     "data": {
      "text/plain": [
       "{'mse_val': 0.18241136749321382,\n",
       " 'mse_train': 0.11526856747542355,\n",
       " 'r2_val': 0.8651146492688101,\n",
       " 'r2_train': 0.9153858925211635}"
      ]
     },
     "execution_count": 43,
     "metadata": {},
     "output_type": "execute_result"
    }
   ],
   "source": [
    "%%time\n",
    "reg = VGBRegressor()\n",
    "_ = reg.fit(X_train, y_train, complexity=True, n_random_models=5)\n",
    "{\n",
    "    'mse_val': mean_squared_error(y_val, reg.predict(X_val)),\n",
    "    'mse_train': mean_squared_error(y_train, reg.predict(X_train)),\n",
    "    'r2_val': r2_score(y_val, reg.predict(X_val)),\n",
    "    'r2_train': r2_score(y_train, reg.predict(X_train)),\n",
    "}\n"
   ]
  },
  {
   "cell_type": "code",
   "execution_count": null,
   "metadata": {},
   "outputs": [
    {
     "name": "stdout",
     "output_type": "stream",
     "text": [
      "CPU times: total: 34.8 s\n",
      "Wall time: 18.3 s\n"
     ]
    },
    {
     "data": {
      "text/plain": [
       "{'mse_val': 0.1862854589591111,\n",
       " 'mse_train': 0.11878126080323766,\n",
       " 'r2_val': 0.8622499254671988,\n",
       " 'r2_train': 0.9128073629420289}"
      ]
     },
     "execution_count": 44,
     "metadata": {},
     "output_type": "execute_result"
    }
   ],
   "source": [
    "%%time\n",
    "reg = VGBRegressor()\n",
    "_ = reg.fit(X_train, y_train, light=False, n_random_models=5)\n",
    "{\n",
    "    'mse_val': mean_squared_error(y_val, reg.predict(X_val)),\n",
    "    'mse_train': mean_squared_error(y_train, reg.predict(X_train)),\n",
    "    'r2_val': r2_score(y_val, reg.predict(X_val)),\n",
    "    'r2_train': r2_score(y_train, reg.predict(X_train)),\n",
    "}\n"
   ]
  },
  {
   "cell_type": "code",
   "execution_count": null,
   "metadata": {},
   "outputs": [],
   "source": [
    "X_train, X_val, y_train, y_val = train_test_split(\n",
    "    X[:15000], y[:15000], train_size=.7,)"
   ]
  },
  {
   "cell_type": "code",
   "execution_count": null,
   "metadata": {},
   "outputs": [
    {
     "name": "stdout",
     "output_type": "stream",
     "text": [
      "CPU times: total: 3.89 s\n",
      "Wall time: 639 ms\n"
     ]
    },
    {
     "data": {
      "text/plain": [
       "{'mse_val': 0.18834848593680398,\n",
       " 'mse_train': 0.04930039228897205,\n",
       " 'r2_val': 0.8419366962411791,\n",
       " 'r2_train': 0.961380802464479}"
      ]
     },
     "execution_count": 46,
     "metadata": {},
     "output_type": "execute_result"
    }
   ],
   "source": [
    "%%time\n",
    "reg = XGBRegressor()\n",
    "reg.fit(X_train, y_train)\n",
    "{\n",
    "    'mse_val': mean_squared_error(y_val, reg.predict(X_val)),\n",
    "    'mse_train': mean_squared_error(y_train, reg.predict(X_train)),\n",
    "    'r2_val': r2_score(y_val, reg.predict(X_val)),\n",
    "    'r2_train': r2_score(y_train, reg.predict(X_train)),\n",
    "}\n"
   ]
  },
  {
   "cell_type": "code",
   "execution_count": null,
   "metadata": {},
   "outputs": [
    {
     "name": "stdout",
     "output_type": "stream",
     "text": [
      "CPU times: total: 6min 38s\n",
      "Wall time: 2min 10s\n"
     ]
    },
    {
     "data": {
      "text/plain": [
       "{'mse_val': 0.18381579654183638,\n",
       " 'mse_train': 0.13497625216201362,\n",
       " 'r2_val': 0.8457405593681784,\n",
       " 'r2_train': 0.8942670777486872}"
      ]
     },
     "execution_count": 47,
     "metadata": {},
     "output_type": "execute_result"
    }
   ],
   "source": [
    "%%time\n",
    "reg = VGBRegressor()\n",
    "_ = reg.fit(X_train, y_train, complexity=True, n_random_models=5)\n",
    "{\n",
    "    'mse_val': mean_squared_error(y_val, reg.predict(X_val)),\n",
    "    'mse_train': mean_squared_error(y_train, reg.predict(X_train)),\n",
    "    'r2_val': r2_score(y_val, reg.predict(X_val)),\n",
    "    'r2_train': r2_score(y_train, reg.predict(X_train)),\n",
    "}\n"
   ]
  },
  {
   "cell_type": "code",
   "execution_count": null,
   "metadata": {},
   "outputs": [
    {
     "name": "stdout",
     "output_type": "stream",
     "text": [
      "CPU times: total: 52.6 s\n",
      "Wall time: 26.7 s\n"
     ]
    },
    {
     "data": {
      "text/plain": [
       "{'mse_val': 0.18306020734505063,\n",
       " 'mse_train': 0.13699375433853303,\n",
       " 'r2_val': 0.8463746548541835,\n",
       " 'r2_train': 0.8926866782535542}"
      ]
     },
     "execution_count": 48,
     "metadata": {},
     "output_type": "execute_result"
    }
   ],
   "source": [
    "%%time\n",
    "reg = VGBRegressor()\n",
    "_ = reg.fit(X_train, y_train, light=False, n_random_models=5)\n",
    "{\n",
    "    'mse_val': mean_squared_error(y_val, reg.predict(X_val)),\n",
    "    'mse_train': mean_squared_error(y_train, reg.predict(X_train)),\n",
    "    'r2_val': r2_score(y_val, reg.predict(X_val)),\n",
    "    'r2_train': r2_score(y_train, reg.predict(X_train)),\n",
    "}\n"
   ]
  },
  {
   "cell_type": "code",
   "execution_count": null,
   "metadata": {},
   "outputs": [],
   "source": [
    "X_train, X_val, y_train, y_val = train_test_split(\n",
    "    X[:20000], y[:20000], train_size=.7,)"
   ]
  },
  {
   "cell_type": "code",
   "execution_count": null,
   "metadata": {},
   "outputs": [
    {
     "name": "stdout",
     "output_type": "stream",
     "text": [
      "CPU times: total: 5.05 s\n",
      "Wall time: 855 ms\n"
     ]
    },
    {
     "data": {
      "text/plain": [
       "{'mse_val': 0.24207434057412902,\n",
       " 'mse_train': 0.06853575465269869,\n",
       " 'r2_val': 0.8192389270506666,\n",
       " 'r2_train': 0.9487313012243933}"
      ]
     },
     "execution_count": 72,
     "metadata": {},
     "output_type": "execute_result"
    }
   ],
   "source": [
    "%%time\n",
    "reg = XGBRegressor()\n",
    "reg.fit(X_train, y_train)\n",
    "{\n",
    "    'mse_val': mean_squared_error(y_val, reg.predict(X_val)),\n",
    "    'mse_train': mean_squared_error(y_train, reg.predict(X_train)),\n",
    "    'r2_val': r2_score(y_val, reg.predict(X_val)),\n",
    "    'r2_train': r2_score(y_train, reg.predict(X_train)),\n",
    "}\n"
   ]
  },
  {
   "cell_type": "code",
   "execution_count": null,
   "metadata": {},
   "outputs": [
    {
     "name": "stdout",
     "output_type": "stream",
     "text": [
      "CPU times: total: 9min 45s\n",
      "Wall time: 2min 59s\n"
     ]
    },
    {
     "data": {
      "text/plain": [
       "{'mse_val': 0.23771505080286465,\n",
       " 'mse_train': 0.15686953430891148,\n",
       " 'r2_val': 0.8224940836875986,\n",
       " 'r2_train': 0.8826525374629898}"
      ]
     },
     "execution_count": 76,
     "metadata": {},
     "output_type": "execute_result"
    }
   ],
   "source": [
    "%%time\n",
    "reg = VGBRegressor()\n",
    "_ = reg.fit(X_train, y_train, complexity=True, n_random_models=5)\n",
    "{\n",
    "    'mse_val': mean_squared_error(y_val, reg.predict(X_val)),\n",
    "    'mse_train': mean_squared_error(y_train, reg.predict(X_train)),\n",
    "    'r2_val': r2_score(y_val, reg.predict(X_val)),\n",
    "    'r2_train': r2_score(y_train, reg.predict(X_train)),\n",
    "}\n"
   ]
  },
  {
   "cell_type": "code",
   "execution_count": null,
   "metadata": {},
   "outputs": [
    {
     "name": "stdout",
     "output_type": "stream",
     "text": [
      "CPU times: total: 45.3 s\n",
      "Wall time: 21.7 s\n"
     ]
    },
    {
     "data": {
      "text/plain": [
       "{'mse_val': 0.2353329874051367,\n",
       " 'mse_train': 0.1535519752392486,\n",
       " 'r2_val': 0.8242728113899458,\n",
       " 'r2_train': 0.88513426305972}"
      ]
     },
     "execution_count": 75,
     "metadata": {},
     "output_type": "execute_result"
    }
   ],
   "source": [
    "%%time\n",
    "reg = VGBRegressor()\n",
    "_ = reg.fit(X_train, y_train, light=False, n_random_models=5)\n",
    "{\n",
    "    'mse_val': mean_squared_error(y_val, reg.predict(X_val)),\n",
    "    'mse_train': mean_squared_error(y_train, reg.predict(X_train)),\n",
    "    'r2_val': r2_score(y_val, reg.predict(X_val)),\n",
    "    'r2_train': r2_score(y_train, reg.predict(X_train)),\n",
    "}\n"
   ]
  },
  {
   "attachments": {},
   "cell_type": "markdown",
   "metadata": {},
   "source": [
    "# Classification Datasets"
   ]
  },
  {
   "cell_type": "code",
   "execution_count": null,
   "metadata": {},
   "outputs": [],
   "source": [
    "import pandas as pd"
   ]
  },
  {
   "cell_type": "code",
   "execution_count": null,
   "metadata": {},
   "outputs": [],
   "source": [
    "df = pd.read_csv(r'../HIGGS.csv/HIGGS.csv', nrows=1000)\n",
    "y = df['1.000000000000000000e+00'] \n",
    "X = df.drop(['1.000000000000000000e+00'], axis=1)\n",
    "X_train, X_val, y_train, y_val = train_test_split(\n",
    "    X, y, train_size=.7,)"
   ]
  },
  {
   "cell_type": "code",
   "execution_count": null,
   "metadata": {},
   "outputs": [
    {
     "name": "stdout",
     "output_type": "stream",
     "text": [
      "CPU times: total: 797 ms\n",
      "Wall time: 215 ms\n"
     ]
    },
    {
     "data": {
      "text/plain": [
       "{'f1_val': 0.6873065015479876,\n",
       " 'f1_train': 1.0,\n",
       " 'roc_auc_score_val': 0.6620648259303722,\n",
       " 'roc_auc_score_train': 1.0}"
      ]
     },
     "execution_count": 15,
     "metadata": {},
     "output_type": "execute_result"
    }
   ],
   "source": [
    "%%time\n",
    "clf = XGBClassifier()\n",
    "clf.fit(X_train, y_train)\n",
    "{\n",
    "    'f1_val': f1_score(y_val, clf.predict(X_val)),\n",
    "    'f1_train': f1_score(y_train, clf.predict(X_train)),\n",
    "    'roc_auc_score_val': roc_auc_score(y_val, clf.predict(X_val)),\n",
    "    'roc_auc_score_train': roc_auc_score(y_train, clf.predict(X_train)),\n",
    "}\n"
   ]
  },
  {
   "cell_type": "code",
   "execution_count": null,
   "metadata": {},
   "outputs": [
    {
     "name": "stdout",
     "output_type": "stream",
     "text": [
      "CPU times: total: 1min 59s\n",
      "Wall time: 35.8 s\n"
     ]
    },
    {
     "data": {
      "text/plain": [
       "{'f1_val': 0.7478260869565218,\n",
       " 'f1_train': 0.9413265306122449,\n",
       " 'roc_auc_score_val': 0.7057842046718577,\n",
       " 'roc_auc_score_train': 0.9316017316017315}"
      ]
     },
     "execution_count": 17,
     "metadata": {},
     "output_type": "execute_result"
    }
   ],
   "source": [
    "%%time\n",
    "reg = VGBClassifier()\n",
    "_ = reg.fit(X_train, y_train, light=False, n_random_models=10)\n",
    "{\n",
    "    'f1_val': f1_score(y_val, reg.predict(X_val)),\n",
    "    'f1_train': f1_score(y_train, reg.predict(X_train)),\n",
    "    'roc_auc_score_val': roc_auc_score(y_val, reg.predict(X_val)),\n",
    "    'roc_auc_score_train': roc_auc_score(y_train, reg.predict(X_train)),\n",
    "}\n"
   ]
  },
  {
   "cell_type": "code",
   "execution_count": null,
   "metadata": {},
   "outputs": [
    {
     "name": "stdout",
     "output_type": "stream",
     "text": [
      "CPU times: total: 3min 35s\n",
      "Wall time: 1min 30s\n"
     ]
    },
    {
     "data": {
      "text/plain": [
       "{'f1_val': 0.7365439093484418,\n",
       " 'f1_train': 0.9238578680203046,\n",
       " 'roc_auc_score_val': 0.6818546768366118,\n",
       " 'roc_auc_score_train': 0.9102921695916536}"
      ]
     },
     "execution_count": 54,
     "metadata": {},
     "output_type": "execute_result"
    }
   ],
   "source": [
    "%%time\n",
    "clf = VGBClassifier()\n",
    "_ = clf.fit(X_train, y_train, complexity=True, n_random_models=5)\n",
    "{\n",
    "    'f1_val': f1_score(y_val, clf.predict(X_val)),\n",
    "    'f1_train': f1_score(y_train, clf.predict(X_train)),\n",
    "    'roc_auc_score_val': roc_auc_score(y_val, clf.predict(X_val)),\n",
    "    'roc_auc_score_train': roc_auc_score(y_train, clf.predict(X_train)),\n",
    "}"
   ]
  },
  {
   "cell_type": "code",
   "execution_count": null,
   "metadata": {},
   "outputs": [],
   "source": [
    "df = pd.read_csv(r'../HIGGS.csv/HIGGS.csv', nrows=10000)\n",
    "y = df['1.000000000000000000e+00'] \n",
    "X = df.drop(['1.000000000000000000e+00'], axis=1)\n",
    "X_train, X_val, y_train, y_val = train_test_split(\n",
    "    X, y, train_size=.7,)"
   ]
  },
  {
   "cell_type": "code",
   "execution_count": null,
   "metadata": {},
   "outputs": [
    {
     "name": "stdout",
     "output_type": "stream",
     "text": [
      "CPU times: total: 3.52 s\n",
      "Wall time: 759 ms\n"
     ]
    },
    {
     "data": {
      "text/plain": [
       "{'f1_val': 0.6847073631214602,\n",
       " 'f1_train': 1.0,\n",
       " 'roc_auc_score_val': 0.6653838152693989,\n",
       " 'roc_auc_score_train': 1.0}"
      ]
     },
     "execution_count": 46,
     "metadata": {},
     "output_type": "execute_result"
    }
   ],
   "source": [
    "%%time\n",
    "clf = XGBClassifier()\n",
    "clf.fit(X_train, y_train)\n",
    "{\n",
    "    'f1_val': f1_score(y_val, clf.predict(X_val)),\n",
    "    'f1_train': f1_score(y_train, clf.predict(X_train)),\n",
    "    'roc_auc_score_val': roc_auc_score(y_val, clf.predict(X_val)),\n",
    "    'roc_auc_score_train': roc_auc_score(y_train, clf.predict(X_train)),\n",
    "}\n"
   ]
  },
  {
   "cell_type": "code",
   "execution_count": null,
   "metadata": {},
   "outputs": [
    {
     "name": "stdout",
     "output_type": "stream",
     "text": [
      "CPU times: total: 10min 54s\n",
      "Wall time: 3min 57s\n"
     ]
    },
    {
     "data": {
      "text/plain": [
       "{'f1_val': 0.718856787822305,\n",
       " 'f1_train': 0.7798675496688741,\n",
       " 'roc_auc_score_val': 0.6964433655516458,\n",
       " 'roc_auc_score_train': 0.7606639684410063}"
      ]
     },
     "execution_count": 37,
     "metadata": {},
     "output_type": "execute_result"
    }
   ],
   "source": [
    "%%time\n",
    "clf = VGBClassifier()\n",
    "_ = clf.fit(X_train, y_train, complexity=True, n_random_models=5)\n",
    "{\n",
    "    'f1_val': f1_score(y_val, clf.predict(X_val)),\n",
    "    'f1_train': f1_score(y_train, clf.predict(X_train)),\n",
    "    'roc_auc_score_val': roc_auc_score(y_val, clf.predict(X_val)),\n",
    "    'roc_auc_score_train': roc_auc_score(y_train, clf.predict(X_train)),\n",
    "}"
   ]
  },
  {
   "cell_type": "code",
   "execution_count": null,
   "metadata": {},
   "outputs": [
    {
     "name": "stdout",
     "output_type": "stream",
     "text": [
      "CPU times: total: 4min\n",
      "Wall time: 1min 10s\n"
     ]
    },
    {
     "data": {
      "text/plain": [
       "{'f1_val': 0.7180768029971901,\n",
       " 'f1_train': 0.8935831008369868,\n",
       " 'roc_auc_score_val': 0.6973609193354415,\n",
       " 'roc_auc_score_train': 0.8843864952097957}"
      ]
     },
     "execution_count": 39,
     "metadata": {},
     "output_type": "execute_result"
    }
   ],
   "source": [
    "%%time\n",
    "reg = VGBClassifier()\n",
    "_ = reg.fit(X_train, y_train, light=False, n_random_models=10)\n",
    "{\n",
    "    'f1_val': f1_score(y_val, reg.predict(X_val)),\n",
    "    'f1_train': f1_score(y_train, reg.predict(X_train)),\n",
    "    'roc_auc_score_val': roc_auc_score(y_val, reg.predict(X_val)),\n",
    "    'roc_auc_score_train': roc_auc_score(y_train, reg.predict(X_train)),\n",
    "}\n"
   ]
  },
  {
   "cell_type": "code",
   "execution_count": null,
   "metadata": {},
   "outputs": [],
   "source": [
    "df = pd.read_csv(r'../HIGGS.csv/HIGGS.csv', nrows=20000)\n",
    "y = df['1.000000000000000000e+00'] \n",
    "X = df.drop(['1.000000000000000000e+00'], axis=1)\n",
    "X_train, X_val, y_train, y_val = train_test_split(\n",
    "    X, y, train_size=.7,)"
   ]
  },
  {
   "cell_type": "code",
   "execution_count": null,
   "metadata": {},
   "outputs": [
    {
     "name": "stdout",
     "output_type": "stream",
     "text": [
      "CPU times: total: 12.3 s\n",
      "Wall time: 2.17 s\n"
     ]
    },
    {
     "data": {
      "text/plain": [
       "{'f1_val': 0.7068450039339104,\n",
       " 'f1_train': 0.9497025419145484,\n",
       " 'roc_auc_score_val': 0.6882296215305839,\n",
       " 'roc_auc_score_train': 0.946265943135645}"
      ]
     },
     "execution_count": 57,
     "metadata": {},
     "output_type": "execute_result"
    }
   ],
   "source": [
    "%%time\n",
    "clf = XGBClassifier()\n",
    "clf.fit(X_train, y_train)\n",
    "{\n",
    "    'f1_val': f1_score(y_val, clf.predict(X_val)),\n",
    "    'f1_train': f1_score(y_train, clf.predict(X_train)),\n",
    "    'roc_auc_score_val': roc_auc_score(y_val, clf.predict(X_val)),\n",
    "    'roc_auc_score_train': roc_auc_score(y_train, clf.predict(X_train)),\n",
    "}\n"
   ]
  },
  {
   "cell_type": "code",
   "execution_count": null,
   "metadata": {},
   "outputs": [
    {
     "name": "stdout",
     "output_type": "stream",
     "text": [
      "CPU times: total: 26min 9s\n",
      "Wall time: 9min\n"
     ]
    },
    {
     "data": {
      "text/plain": [
       "{'f1_val': 0.7142628973007507,\n",
       " 'f1_train': 0.7817722900607137,\n",
       " 'roc_auc_score_val': 0.701283166436789,\n",
       " 'roc_auc_score_train': 0.7709729726280532}"
      ]
     },
     "execution_count": 58,
     "metadata": {},
     "output_type": "execute_result"
    }
   ],
   "source": [
    "%%time\n",
    "clf = VGBClassifier()\n",
    "_ = clf.fit(X_train, y_train, complexity=True, n_random_models=5)\n",
    "{\n",
    "    'f1_val': f1_score(y_val, clf.predict(X_val)),\n",
    "    'f1_train': f1_score(y_train, clf.predict(X_train)),\n",
    "    'roc_auc_score_val': roc_auc_score(y_val, clf.predict(X_val)),\n",
    "    'roc_auc_score_train': roc_auc_score(y_train, clf.predict(X_train)),\n",
    "}"
   ]
  },
  {
   "cell_type": "code",
   "execution_count": null,
   "metadata": {},
   "outputs": [
    {
     "name": "stdout",
     "output_type": "stream",
     "text": [
      "CPU times: total: 5min 30s\n",
      "Wall time: 1min 44s\n"
     ]
    },
    {
     "data": {
      "text/plain": [
       "{'f1_val': 0.7095034110740916,\n",
       " 'f1_train': 0.9301626349596829,\n",
       " 'roc_auc_score_val': 0.693958436754194,\n",
       " 'roc_auc_score_train': 0.9268896565016514}"
      ]
     },
     "execution_count": 59,
     "metadata": {},
     "output_type": "execute_result"
    }
   ],
   "source": [
    "%%time\n",
    "reg = VGBClassifier()\n",
    "_ = reg.fit(X_train, y_train, light=False, n_random_models=10)\n",
    "{\n",
    "    'f1_val': f1_score(y_val, reg.predict(X_val)),\n",
    "    'f1_train': f1_score(y_train, reg.predict(X_train)),\n",
    "    'roc_auc_score_val': roc_auc_score(y_val, reg.predict(X_val)),\n",
    "    'roc_auc_score_train': roc_auc_score(y_train, reg.predict(X_train)),\n",
    "}\n"
   ]
  },
  {
   "cell_type": "code",
   "execution_count": null,
   "metadata": {},
   "outputs": [],
   "source": [
    "df = pd.read_csv(r'../HIGGS.csv/HIGGS.csv', nrows=30000)\n",
    "y = df['1.000000000000000000e+00'] \n",
    "X = df.drop(['1.000000000000000000e+00'], axis=1)\n",
    "X_train, X_val, y_train, y_val = train_test_split(\n",
    "    X, y, train_size=.7,)"
   ]
  },
  {
   "cell_type": "code",
   "execution_count": null,
   "metadata": {},
   "outputs": [
    {
     "name": "stdout",
     "output_type": "stream",
     "text": [
      "CPU times: total: 18.2 s\n",
      "Wall time: 3.03 s\n"
     ]
    },
    {
     "data": {
      "text/plain": [
       "{'f1_val': 0.7204088017520075,\n",
       " 'f1_train': 0.9165632204291541,\n",
       " 'roc_auc_score_val': 0.700599802440368,\n",
       " 'roc_auc_score_train': 0.9090959517672835}"
      ]
     },
     "execution_count": 61,
     "metadata": {},
     "output_type": "execute_result"
    }
   ],
   "source": [
    "%%time\n",
    "clf = XGBClassifier()\n",
    "clf.fit(X_train, y_train)\n",
    "{\n",
    "    'f1_val': f1_score(y_val, clf.predict(X_val)),\n",
    "    'f1_train': f1_score(y_train, clf.predict(X_train)),\n",
    "    'roc_auc_score_val': roc_auc_score(y_val, clf.predict(X_val)),\n",
    "    'roc_auc_score_train': roc_auc_score(y_train, clf.predict(X_train)),\n",
    "}\n"
   ]
  },
  {
   "cell_type": "code",
   "execution_count": null,
   "metadata": {},
   "outputs": [
    {
     "name": "stdout",
     "output_type": "stream",
     "text": [
      "CPU times: total: 1h 43min 17s\n",
      "Wall time: 42min 37s\n"
     ]
    },
    {
     "data": {
      "text/plain": [
       "{'f1_val': 0.7220534311157675,\n",
       " 'f1_train': 0.8113837794504075,\n",
       " 'roc_auc_score_val': 0.7039209571510887,\n",
       " 'roc_auc_score_train': 0.7969676951749712}"
      ]
     },
     "execution_count": 62,
     "metadata": {},
     "output_type": "execute_result"
    }
   ],
   "source": [
    "%%time\n",
    "clf = VGBClassifier()\n",
    "_ = clf.fit(X_train, y_train, complexity=True, n_random_models=5)\n",
    "{\n",
    "    'f1_val': f1_score(y_val, clf.predict(X_val)),\n",
    "    'f1_train': f1_score(y_train, clf.predict(X_train)),\n",
    "    'roc_auc_score_val': roc_auc_score(y_val, clf.predict(X_val)),\n",
    "    'roc_auc_score_train': roc_auc_score(y_train, clf.predict(X_train)),\n",
    "}"
   ]
  },
  {
   "cell_type": "code",
   "execution_count": null,
   "metadata": {},
   "outputs": [
    {
     "name": "stdout",
     "output_type": "stream",
     "text": [
      "CPU times: total: 4min 24s\n",
      "Wall time: 1min 28s\n"
     ]
    },
    {
     "data": {
      "text/plain": [
       "{'f1_val': 0.7291229542593369,\n",
       " 'f1_train': 0.8110898491388902,\n",
       " 'roc_auc_score_val': 0.7118840904341879,\n",
       " 'roc_auc_score_train': 0.7964414179426588}"
      ]
     },
     "execution_count": 64,
     "metadata": {},
     "output_type": "execute_result"
    }
   ],
   "source": [
    "%%time\n",
    "reg = VGBClassifier()\n",
    "_ = reg.fit(X_train, y_train, light=False, n_random_models=5)\n",
    "{\n",
    "    'f1_val': f1_score(y_val, reg.predict(X_val)),\n",
    "    'f1_train': f1_score(y_train, reg.predict(X_train)),\n",
    "    'roc_auc_score_val': roc_auc_score(y_val, reg.predict(X_val)),\n",
    "    'roc_auc_score_train': roc_auc_score(y_train, reg.predict(X_train)),\n",
    "}\n"
   ]
  },
  {
   "cell_type": "code",
   "execution_count": null,
   "metadata": {},
   "outputs": [],
   "source": [
    "df = pd.read_csv(r'../HIGGS.csv/HIGGS.csv', nrows=40000)\n",
    "y = df['1.000000000000000000e+00'] \n",
    "X = df.drop(['1.000000000000000000e+00'], axis=1)\n",
    "X_train, X_val, y_train, y_val = train_test_split(\n",
    "    X, y, train_size=.7,)"
   ]
  },
  {
   "cell_type": "code",
   "execution_count": null,
   "metadata": {},
   "outputs": [
    {
     "name": "stdout",
     "output_type": "stream",
     "text": [
      "CPU times: total: 23 s\n",
      "Wall time: 3.64 s\n"
     ]
    },
    {
     "data": {
      "text/plain": [
       "{'f1_val': 0.7238419302451474,\n",
       " 'f1_train': 0.8907512919040679,\n",
       " 'roc_auc_score_val': 0.7002745562668508,\n",
       " 'roc_auc_score_train': 0.8807396776457758}"
      ]
     },
     "execution_count": 66,
     "metadata": {},
     "output_type": "execute_result"
    }
   ],
   "source": [
    "%%time\n",
    "clf = XGBClassifier()\n",
    "clf.fit(X_train, y_train)\n",
    "{\n",
    "    'f1_val': f1_score(y_val, clf.predict(X_val)),\n",
    "    'f1_train': f1_score(y_train, clf.predict(X_train)),\n",
    "    'roc_auc_score_val': roc_auc_score(y_val, clf.predict(X_val)),\n",
    "    'roc_auc_score_train': roc_auc_score(y_train, clf.predict(X_train)),\n",
    "}\n"
   ]
  },
  {
   "cell_type": "code",
   "execution_count": null,
   "metadata": {},
   "outputs": [
    {
     "name": "stdout",
     "output_type": "stream",
     "text": [
      "CPU times: total: 3h 48min 49s\n",
      "Wall time: 1h 33min 2s\n"
     ]
    },
    {
     "data": {
      "text/plain": [
       "{'f1_val': 0.7271022194435762,\n",
       " 'f1_train': 0.9346240462505462,\n",
       " 'roc_auc_score_val': 0.7075408817826807,\n",
       " 'roc_auc_score_train': 0.9302080472438309}"
      ]
     },
     "execution_count": 67,
     "metadata": {},
     "output_type": "execute_result"
    }
   ],
   "source": [
    "%%time\n",
    "clf = VGBClassifier()\n",
    "_ = clf.fit(X_train, y_train, complexity=True, n_random_models=5)\n",
    "{\n",
    "    'f1_val': f1_score(y_val, clf.predict(X_val)),\n",
    "    'f1_train': f1_score(y_train, clf.predict(X_train)),\n",
    "    'roc_auc_score_val': roc_auc_score(y_val, clf.predict(X_val)),\n",
    "    'roc_auc_score_train': roc_auc_score(y_train, clf.predict(X_train)),\n",
    "}"
   ]
  },
  {
   "cell_type": "code",
   "execution_count": null,
   "metadata": {},
   "outputs": [
    {
     "name": "stdout",
     "output_type": "stream",
     "text": [
      "CPU times: total: 9min 57s\n",
      "Wall time: 3min 50s\n"
     ]
    },
    {
     "data": {
      "text/plain": [
       "{'f1_val': 0.7316236651336815,\n",
       " 'f1_train': 0.7983574527270921,\n",
       " 'roc_auc_score_val': 0.7114768098458282,\n",
       " 'roc_auc_score_train': 0.7806628226753496}"
      ]
     },
     "execution_count": 68,
     "metadata": {},
     "output_type": "execute_result"
    }
   ],
   "source": [
    "%%time\n",
    "reg = VGBClassifier()\n",
    "_ = reg.fit(X_train, y_train, light=False, n_random_models=5)\n",
    "{\n",
    "    'f1_val': f1_score(y_val, reg.predict(X_val)),\n",
    "    'f1_train': f1_score(y_train, reg.predict(X_train)),\n",
    "    'roc_auc_score_val': roc_auc_score(y_val, reg.predict(X_val)),\n",
    "    'roc_auc_score_train': roc_auc_score(y_train, reg.predict(X_train)),\n",
    "}\n"
   ]
  },
  {
   "cell_type": "code",
   "execution_count": null,
   "metadata": {},
   "outputs": [],
   "source": [
    "df = pd.read_csv(r'../HIGGS.csv/HIGGS.csv', nrows=50000)\n",
    "y = df['1.000000000000000000e+00'] \n",
    "X = df.drop(['1.000000000000000000e+00'], axis=1)\n",
    "X_train, X_val, y_train, y_val = train_test_split(\n",
    "    X, y, train_size=.7,)"
   ]
  },
  {
   "cell_type": "code",
   "execution_count": null,
   "metadata": {},
   "outputs": [
    {
     "name": "stdout",
     "output_type": "stream",
     "text": [
      "CPU times: total: 26.2 s\n",
      "Wall time: 5.67 s\n"
     ]
    },
    {
     "data": {
      "text/plain": [
       "{'f1_val': 0.7332587899117903,\n",
       " 'f1_train': 0.873466803830023,\n",
       " 'roc_auc_score_val': 0.7118812641313195,\n",
       " 'roc_auc_score_train': 0.861162951748859}"
      ]
     },
     "execution_count": 19,
     "metadata": {},
     "output_type": "execute_result"
    }
   ],
   "source": [
    "%%time\n",
    "clf = XGBClassifier()\n",
    "clf.fit(X_train, y_train)\n",
    "{\n",
    "    'f1_val': f1_score(y_val, clf.predict(X_val)),\n",
    "    'f1_train': f1_score(y_train, clf.predict(X_train)),\n",
    "    'roc_auc_score_val': roc_auc_score(y_val, clf.predict(X_val)),\n",
    "    'roc_auc_score_train': roc_auc_score(y_train, clf.predict(X_train)),\n",
    "}\n"
   ]
  },
  {
   "cell_type": "code",
   "execution_count": null,
   "metadata": {},
   "outputs": [
    {
     "name": "stdout",
     "output_type": "stream",
     "text": [
      "CPU times: total: 7h 26min 27s\n",
      "Wall time: 4h 24min 22s\n"
     ]
    },
    {
     "data": {
      "text/plain": [
       "{'f1_val': 0.7374594459695532,\n",
       " 'f1_train': 0.7884930926798285,\n",
       " 'roc_auc_score_val': 0.7179048120672309,\n",
       " 'roc_auc_score_train': 0.7697266086746667}"
      ]
     },
     "execution_count": 20,
     "metadata": {},
     "output_type": "execute_result"
    }
   ],
   "source": [
    "%%time\n",
    "clf = VGBClassifier()\n",
    "_ = clf.fit(X_train, y_train, complexity=True, n_random_models=5)\n",
    "{\n",
    "    'f1_val': f1_score(y_val, clf.predict(X_val)),\n",
    "    'f1_train': f1_score(y_train, clf.predict(X_train)),\n",
    "    'roc_auc_score_val': roc_auc_score(y_val, clf.predict(X_val)),\n",
    "    'roc_auc_score_train': roc_auc_score(y_train, clf.predict(X_train)),\n",
    "}"
   ]
  },
  {
   "cell_type": "code",
   "execution_count": null,
   "metadata": {},
   "outputs": [
    {
     "name": "stdout",
     "output_type": "stream",
     "text": [
      "CPU times: total: 16min 45s\n",
      "Wall time: 5min 59s\n"
     ]
    },
    {
     "data": {
      "text/plain": [
       "{'f1_val': 0.7389125997402116,\n",
       " 'f1_train': 0.7897541416059934,\n",
       " 'roc_auc_score_val': 0.7164972008312849,\n",
       " 'roc_auc_score_train': 0.7701317919514868}"
      ]
     },
     "execution_count": 21,
     "metadata": {},
     "output_type": "execute_result"
    }
   ],
   "source": [
    "%%time\n",
    "reg = VGBClassifier()\n",
    "_ = reg.fit(X_train, y_train, light=False, n_random_models=5)\n",
    "{\n",
    "    'f1_val': f1_score(y_val, reg.predict(X_val)),\n",
    "    'f1_train': f1_score(y_train, reg.predict(X_train)),\n",
    "    'roc_auc_score_val': roc_auc_score(y_val, reg.predict(X_val)),\n",
    "    'roc_auc_score_train': roc_auc_score(y_train, reg.predict(X_train)),\n",
    "}\n"
   ]
  },
  {
   "attachments": {},
   "cell_type": "markdown",
   "metadata": {},
   "source": [
    "# Multiclass Classification"
   ]
  },
  {
   "cell_type": "code",
   "execution_count": null,
   "metadata": {},
   "outputs": [],
   "source": [
    "from sklearn.datasets import fetch_covtype\n",
    "from sklearn.multiclass import OneVsRestClassifier, OneVsOneClassifier, OutputCodeClassifier"
   ]
  },
  {
   "cell_type": "code",
   "execution_count": null,
   "metadata": {},
   "outputs": [],
   "source": [
    "from sklearn.multiclass import OneVsRestClassifier, OneVsOneClassifier\n",
    "from sklearn.preprocessing import LabelEncoder\n",
    "le = LabelEncoder()"
   ]
  },
  {
   "cell_type": "code",
   "execution_count": null,
   "metadata": {},
   "outputs": [],
   "source": [
    "X, y = fetch_covtype(return_X_y=True,)"
   ]
  },
  {
   "cell_type": "code",
   "execution_count": null,
   "metadata": {},
   "outputs": [],
   "source": [
    "X_train, X_val, y_train, y_val = train_test_split(\n",
    "    X[:1000], y[:1000], train_size=.7, stratify=y[:1000])\n",
    "y_train = le.fit_transform(y_train)\n",
    "y_val = le.transform(y_val)"
   ]
  },
  {
   "cell_type": "code",
   "execution_count": null,
   "metadata": {},
   "outputs": [
    {
     "name": "stdout",
     "output_type": "stream",
     "text": [
      "CPU times: total: 1.53 s\n",
      "Wall time: 351 ms\n"
     ]
    },
    {
     "data": {
      "text/plain": [
       "{'f1_val': 0.7997530160539564,\n",
       " 'f1_train': 1.0,\n",
       " 'r2_sval': 0.5264720832553037,\n",
       " 'r2_train': 1.0}"
      ]
     },
     "execution_count": 11,
     "metadata": {},
     "output_type": "execute_result"
    }
   ],
   "source": [
    "%%time\n",
    "clf = XGBClassifier()\n",
    "clf.fit(X_train, y_train,)\n",
    "{\n",
    "    'f1_val': f1_score(y_val, clf.predict(X_val), average='macro'),\n",
    "    'f1_train': f1_score(y_train, clf.predict(X_train), average='macro'),\n",
    "    'r2_sval': r2_score(y_val, clf.predict(X_val)),\n",
    "    'r2_train': r2_score(y_train, clf.predict(X_train))\n",
    "}\n"
   ]
  },
  {
   "cell_type": "code",
   "execution_count": null,
   "metadata": {},
   "outputs": [
    {
     "name": "stdout",
     "output_type": "stream",
     "text": [
      "CPU times: total: 3min 44s\n",
      "Wall time: 1min 21s\n"
     ]
    },
    {
     "data": {
      "text/plain": [
       "{'f1_val': 0.8026206592726212,\n",
       " 'f1_train': 0.9779947625637742,\n",
       " 'r2_sval': 0.5585756708312153,\n",
       " 'r2_train': 0.9411834483304007}"
      ]
     },
     "execution_count": 12,
     "metadata": {},
     "output_type": "execute_result"
    }
   ],
   "source": [
    "%%time\n",
    "clf = OneVsRestClassifier(VGBClassifier())\n",
    "clf.fit(X_train, y_train,)\n",
    "{\n",
    "    'f1_val': f1_score(y_val, clf.predict(X_val), average='macro'),\n",
    "    'f1_train': f1_score(y_train, clf.predict(X_train), average='macro'),\n",
    "    'r2_sval': r2_score(y_val, clf.predict(X_val)),\n",
    "    'r2_train': r2_score(y_train, clf.predict(X_train))\n",
    "}"
   ]
  },
  {
   "cell_type": "code",
   "execution_count": null,
   "metadata": {},
   "outputs": [],
   "source": [
    "X_train, X_val, y_train, y_val = train_test_split(\n",
    "    X[:5000], y[:5000], train_size=.7, stratify=y[:5000])\n",
    "y_train = le.fit_transform(y_train)\n",
    "y_val = le.transform(y_val)"
   ]
  },
  {
   "cell_type": "code",
   "execution_count": null,
   "metadata": {},
   "outputs": [
    {
     "name": "stdout",
     "output_type": "stream",
     "text": [
      "CPU times: total: 12 s\n",
      "Wall time: 2.33 s\n"
     ]
    },
    {
     "data": {
      "text/plain": [
       "{'f1_val': 0.8476413325206937,\n",
       " 'f1_train': 1.0,\n",
       " 'r2_sval': 0.6872524813057344,\n",
       " 'r2_train': 1.0}"
      ]
     },
     "execution_count": 16,
     "metadata": {},
     "output_type": "execute_result"
    }
   ],
   "source": [
    "%%time\n",
    "clf = XGBClassifier()\n",
    "clf.fit(X_train, y_train,)\n",
    "{\n",
    "    'f1_val': f1_score(y_val, clf.predict(X_val), average='macro'),\n",
    "    'f1_train': f1_score(y_train, clf.predict(X_train), average='macro'),\n",
    "    'r2_sval': r2_score(y_val, clf.predict(X_val)),\n",
    "    'r2_train': r2_score(y_train, clf.predict(X_train))\n",
    "}\n"
   ]
  },
  {
   "cell_type": "code",
   "execution_count": null,
   "metadata": {},
   "outputs": [
    {
     "name": "stdout",
     "output_type": "stream",
     "text": [
      "CPU times: total: 15min 54s\n",
      "Wall time: 4min 51s\n"
     ]
    },
    {
     "data": {
      "text/plain": [
       "{'f1_val': 0.8493663558199332,\n",
       " 'f1_train': 0.9844662770294886,\n",
       " 'r2_sval': 0.6912620648787378,\n",
       " 'r2_train': 0.9671073028882091}"
      ]
     },
     "execution_count": 18,
     "metadata": {},
     "output_type": "execute_result"
    }
   ],
   "source": [
    "%%time\n",
    "clf = OneVsRestClassifier(VGBClassifier())\n",
    "clf.fit(X_train, y_train,)\n",
    "{\n",
    "    'f1_val': f1_score(y_val, clf.predict(X_val), average='macro'),\n",
    "    'f1_train': f1_score(y_train, clf.predict(X_train), average='macro'),\n",
    "    'r2_sval': r2_score(y_val, clf.predict(X_val)),\n",
    "    'r2_train': r2_score(y_train, clf.predict(X_train))\n",
    "}"
   ]
  },
  {
   "cell_type": "code",
   "execution_count": null,
   "metadata": {},
   "outputs": [],
   "source": [
    "X_train, X_val, y_train, y_val = train_test_split(\n",
    "    X[:10000], y[:10000], train_size=.7, stratify=y[:10000])\n",
    "y_train = le.fit_transform(y_train)\n",
    "y_val = le.transform(y_val)"
   ]
  },
  {
   "cell_type": "code",
   "execution_count": null,
   "metadata": {},
   "outputs": [
    {
     "name": "stdout",
     "output_type": "stream",
     "text": [
      "CPU times: total: 22.2 s\n",
      "Wall time: 5.19 s\n"
     ]
    },
    {
     "data": {
      "text/plain": [
       "{'f1_val': 0.8403497554267313,\n",
       " 'f1_train': 0.9995555356733127,\n",
       " 'r2_sval': 0.6833010916729945,\n",
       " 'r2_train': 0.9995929391736567}"
      ]
     },
     "execution_count": 20,
     "metadata": {},
     "output_type": "execute_result"
    }
   ],
   "source": [
    "%%time\n",
    "clf = XGBClassifier()\n",
    "clf.fit(X_train, y_train,)\n",
    "{\n",
    "    'f1_val': f1_score(y_val, clf.predict(X_val), average='macro'),\n",
    "    'f1_train': f1_score(y_train, clf.predict(X_train), average='macro'),\n",
    "    'r2_sval': r2_score(y_val, clf.predict(X_val)),\n",
    "    'r2_train': r2_score(y_train, clf.predict(X_train))\n",
    "}\n"
   ]
  },
  {
   "cell_type": "code",
   "execution_count": null,
   "metadata": {},
   "outputs": [
    {
     "name": "stdout",
     "output_type": "stream",
     "text": [
      "CPU times: total: 23min 33s\n",
      "Wall time: 8min 40s\n"
     ]
    },
    {
     "data": {
      "text/plain": [
       "{'f1_val': 0.845431907834147,\n",
       " 'f1_train': 0.9881262967571253,\n",
       " 'r2_sval': 0.6621475386358853,\n",
       " 'r2_train': 0.9709506592109547}"
      ]
     },
     "execution_count": 21,
     "metadata": {},
     "output_type": "execute_result"
    }
   ],
   "source": [
    "%%time\n",
    "clf = OneVsRestClassifier(VGBClassifier())\n",
    "clf.fit(X_train, y_train,)\n",
    "{\n",
    "    'f1_val': f1_score(y_val, clf.predict(X_val), average='macro'),\n",
    "    'f1_train': f1_score(y_train, clf.predict(X_train), average='macro'),\n",
    "    'r2_sval': r2_score(y_val, clf.predict(X_val)),\n",
    "    'r2_train': r2_score(y_train, clf.predict(X_train))\n",
    "}"
   ]
  },
  {
   "cell_type": "code",
   "execution_count": null,
   "metadata": {},
   "outputs": [],
   "source": [
    "X_train, X_val, y_train, y_val = train_test_split(\n",
    "    X[:15000], y[:15000], train_size=.7, stratify=y[:15000])\n",
    "y_train = le.fit_transform(y_train)\n",
    "y_val = le.transform(y_val)"
   ]
  },
  {
   "cell_type": "code",
   "execution_count": null,
   "metadata": {},
   "outputs": [
    {
     "name": "stdout",
     "output_type": "stream",
     "text": [
      "CPU times: total: 32.3 s\n",
      "Wall time: 5.17 s\n"
     ]
    },
    {
     "data": {
      "text/plain": [
       "{'f1_val': 0.8417065349417145,\n",
       " 'f1_train': 0.9914110773242235,\n",
       " 'r2_sval': 0.6614099158919876,\n",
       " 'r2_train': 0.9893505999701885}"
      ]
     },
     "execution_count": 132,
     "metadata": {},
     "output_type": "execute_result"
    }
   ],
   "source": [
    "%%time\n",
    "clf = XGBClassifier()\n",
    "clf.fit(X_train, y_train,)\n",
    "{\n",
    "    'f1_val': f1_score(y_val, clf.predict(X_val), average='macro'),\n",
    "    'f1_train': f1_score(y_train, clf.predict(X_train), average='macro'),\n",
    "    'r2_sval': r2_score(y_val, clf.predict(X_val)),\n",
    "    'r2_train': r2_score(y_train, clf.predict(X_train))\n",
    "}\n"
   ]
  },
  {
   "cell_type": "code",
   "execution_count": null,
   "metadata": {},
   "outputs": [
    {
     "name": "stdout",
     "output_type": "stream",
     "text": [
      "CPU times: total: 37min 49s\n",
      "Wall time: 11min 14s\n"
     ]
    },
    {
     "data": {
      "text/plain": [
       "{'f1_val': 0.8605524102116414,\n",
       " 'f1_train': 0.9894984848753218,\n",
       " 'r2_sval': 0.6993691899070384,\n",
       " 'r2_train': 0.9821165977227664}"
      ]
     },
     "execution_count": 133,
     "metadata": {},
     "output_type": "execute_result"
    }
   ],
   "source": [
    "%%time\n",
    "clf = OneVsRestClassifier(VGBClassifier())\n",
    "clf.fit(X_train, y_train,)\n",
    "{\n",
    "    'f1_val': f1_score(y_val, clf.predict(X_val), average='macro'),\n",
    "    'f1_train': f1_score(y_train, clf.predict(X_train), average='macro'),\n",
    "    'r2_sval': r2_score(y_val, clf.predict(X_val)),\n",
    "    'r2_train': r2_score(y_train, clf.predict(X_train))\n",
    "}"
   ]
  },
  {
   "cell_type": "code",
   "execution_count": null,
   "metadata": {},
   "outputs": [],
   "source": [
    "X_train, X_val, y_train, y_val = train_test_split(\n",
    "    X[:25000], y[:25000], train_size=.7, stratify=y[:25000])\n",
    "y_train = le.fit_transform(y_train)\n",
    "y_val = le.transform(y_val)"
   ]
  },
  {
   "cell_type": "code",
   "execution_count": null,
   "metadata": {},
   "outputs": [
    {
     "name": "stdout",
     "output_type": "stream",
     "text": [
      "CPU times: total: 53.3 s\n",
      "Wall time: 7.76 s\n"
     ]
    },
    {
     "data": {
      "text/plain": [
       "{'f1_val': 0.8905810938007166,\n",
       " 'f1_train': 0.9921377536602015,\n",
       " 'r2_sval': 0.792567238063691,\n",
       " 'r2_train': 0.9891312217938868}"
      ]
     },
     "execution_count": 135,
     "metadata": {},
     "output_type": "execute_result"
    }
   ],
   "source": [
    "%%time\n",
    "clf = XGBClassifier()\n",
    "clf.fit(X_train, y_train,)\n",
    "{\n",
    "    'f1_val': f1_score(y_val, clf.predict(X_val), average='macro'),\n",
    "    'f1_train': f1_score(y_train, clf.predict(X_train), average='macro'),\n",
    "    'r2_sval': r2_score(y_val, clf.predict(X_val)),\n",
    "    'r2_train': r2_score(y_train, clf.predict(X_train))\n",
    "}\n"
   ]
  },
  {
   "cell_type": "code",
   "execution_count": null,
   "metadata": {},
   "outputs": [
    {
     "name": "stdout",
     "output_type": "stream",
     "text": [
      "CPU times: total: 1h 15min 47s\n",
      "Wall time: 22min 54s\n"
     ]
    },
    {
     "data": {
      "text/plain": [
       "{'f1_val': 0.9052762552146024,\n",
       " 'f1_train': 0.992420695372901,\n",
       " 'r2_sval': 0.8126627469382872,\n",
       " 'r2_train': 0.9835469729042436}"
      ]
     },
     "execution_count": 136,
     "metadata": {},
     "output_type": "execute_result"
    }
   ],
   "source": [
    "%%time\n",
    "clf = OneVsRestClassifier(VGBClassifier())\n",
    "clf.fit(X_train, y_train,)\n",
    "{\n",
    "    'f1_val': f1_score(y_val, clf.predict(X_val), average='macro'),\n",
    "    'f1_train': f1_score(y_train, clf.predict(X_train), average='macro'),\n",
    "    'r2_sval': r2_score(y_val, clf.predict(X_val)),\n",
    "    'r2_train': r2_score(y_train, clf.predict(X_train))\n",
    "}"
   ]
  },
  {
   "cell_type": "code",
   "execution_count": null,
   "metadata": {},
   "outputs": [],
   "source": [
    "X_train, X_val, y_train, y_val = train_test_split(\n",
    "    X[:35000], y[:35000], train_size=.7, stratify=y[:35000])\n",
    "y_train = le.fit_transform(y_train)\n",
    "y_val = le.transform(y_val)"
   ]
  },
  {
   "cell_type": "code",
   "execution_count": null,
   "metadata": {},
   "outputs": [
    {
     "name": "stdout",
     "output_type": "stream",
     "text": [
      "CPU times: total: 1min 37s\n",
      "Wall time: 15.4 s\n"
     ]
    },
    {
     "data": {
      "text/plain": [
       "{'f1_val': 0.8930292811495282,\n",
       " 'f1_train': 0.9894037618730138,\n",
       " 'r2_sval': 0.8179819491884788,\n",
       " 'r2_train': 0.9873976403126375}"
      ]
     },
     "execution_count": 138,
     "metadata": {},
     "output_type": "execute_result"
    }
   ],
   "source": [
    "%%time\n",
    "clf = XGBClassifier()\n",
    "clf.fit(X_train, y_train,)\n",
    "{\n",
    "    'f1_val': f1_score(y_val, clf.predict(X_val), average='macro'),\n",
    "    'f1_train': f1_score(y_train, clf.predict(X_train), average='macro'),\n",
    "    'r2_sval': r2_score(y_val, clf.predict(X_val)),\n",
    "    'r2_train': r2_score(y_train, clf.predict(X_train))\n",
    "}\n"
   ]
  },
  {
   "cell_type": "code",
   "execution_count": null,
   "metadata": {},
   "outputs": [
    {
     "name": "stdout",
     "output_type": "stream",
     "text": [
      "CPU times: total: 3h 24min 10s\n",
      "Wall time: 1h 5min 22s\n"
     ]
    },
    {
     "data": {
      "text/plain": [
       "{'f1_val': 0.9076828608852584,\n",
       " 'f1_train': 0.9903142538731525,\n",
       " 'r2_sval': 0.8369874703381492,\n",
       " 'r2_train': 0.9841828904674155}"
      ]
     },
     "execution_count": 139,
     "metadata": {},
     "output_type": "execute_result"
    }
   ],
   "source": [
    "%%time\n",
    "clf = OneVsRestClassifier(VGBClassifier())\n",
    "clf.fit(X_train, y_train,)\n",
    "{\n",
    "    'f1_val': f1_score(y_val, clf.predict(X_val), average='macro'),\n",
    "    'f1_train': f1_score(y_train, clf.predict(X_train), average='macro'),\n",
    "    'r2_sval': r2_score(y_val, clf.predict(X_val)),\n",
    "    'r2_train': r2_score(y_train, clf.predict(X_train))\n",
    "}"
   ]
  },
  {
   "cell_type": "code",
   "execution_count": null,
   "metadata": {},
   "outputs": [],
   "source": [
    "X_train, X_val, y_train, y_val = train_test_split(\n",
    "    X[:45000], y[:45000], train_size=.7, stratify=y[:45000])\n",
    "y_train = le.fit_transform(y_train)\n",
    "y_val = le.transform(y_val)"
   ]
  },
  {
   "cell_type": "code",
   "execution_count": null,
   "metadata": {},
   "outputs": [
    {
     "name": "stdout",
     "output_type": "stream",
     "text": [
      "CPU times: total: 2min 3s\n",
      "Wall time: 19.1 s\n"
     ]
    },
    {
     "data": {
      "text/plain": [
       "{'f1_val': 0.9001055828595723,\n",
       " 'f1_train': 0.9888144824161988,\n",
       " 'r2_sval': 0.8305986713515676,\n",
       " 'r2_train': 0.983952023888}"
      ]
     },
     "execution_count": 141,
     "metadata": {},
     "output_type": "execute_result"
    }
   ],
   "source": [
    "%%time\n",
    "clf = XGBClassifier()\n",
    "clf.fit(X_train, y_train,)\n",
    "{\n",
    "    'f1_val': f1_score(y_val, clf.predict(X_val), average='macro'),\n",
    "    'f1_train': f1_score(y_train, clf.predict(X_train), average='macro'),\n",
    "    'r2_sval': r2_score(y_val, clf.predict(X_val)),\n",
    "    'r2_train': r2_score(y_train, clf.predict(X_train))\n",
    "}\n"
   ]
  },
  {
   "cell_type": "code",
   "execution_count": null,
   "metadata": {},
   "outputs": [
    {
     "name": "stdout",
     "output_type": "stream",
     "text": [
      "CPU times: total: 3h 17min 18s\n",
      "Wall time: 1h 7min 34s\n"
     ]
    },
    {
     "data": {
      "text/plain": [
       "{'f1_val': 0.9149398521354789,\n",
       " 'f1_train': 0.9935465416081968,\n",
       " 'r2_sval': 0.8518309133519777,\n",
       " 'r2_train': 0.9885511389932683}"
      ]
     },
     "execution_count": 142,
     "metadata": {},
     "output_type": "execute_result"
    }
   ],
   "source": [
    "%%time\n",
    "clf = OneVsRestClassifier(VGBClassifier())\n",
    "clf.fit(X_train, y_train,)\n",
    "{\n",
    "    'f1_val': f1_score(y_val, clf.predict(X_val), average='macro'),\n",
    "    'f1_train': f1_score(y_train, clf.predict(X_train), average='macro'),\n",
    "    'r2_sval': r2_score(y_val, clf.predict(X_val)),\n",
    "    'r2_train': r2_score(y_train, clf.predict(X_train))\n",
    "}"
   ]
  },
  {
   "cell_type": "code",
   "execution_count": null,
   "metadata": {},
   "outputs": [],
   "source": [
    "X_train, X_val, y_train, y_val = train_test_split(\n",
    "    X[:55000], y[:55000], train_size=.7, stratify=y[:55000])\n",
    "y_train = le.fit_transform(y_train)\n",
    "y_val = le.transform(y_val)"
   ]
  },
  {
   "cell_type": "code",
   "execution_count": null,
   "metadata": {},
   "outputs": [
    {
     "name": "stdout",
     "output_type": "stream",
     "text": [
      "CPU times: total: 2min\n",
      "Wall time: 21.7 s\n"
     ]
    },
    {
     "data": {
      "text/plain": [
       "{'f1_val': 0.912133340210217,\n",
       " 'f1_train': 0.9892597730499972,\n",
       " 'r2_sval': 0.8560846895658994,\n",
       " 'r2_train': 0.985479729883104}"
      ]
     },
     "execution_count": 144,
     "metadata": {},
     "output_type": "execute_result"
    }
   ],
   "source": [
    "%%time\n",
    "clf = XGBClassifier()\n",
    "clf.fit(X_train, y_train,)\n",
    "{\n",
    "    'f1_val': f1_score(y_val, clf.predict(X_val), average='macro'),\n",
    "    'f1_train': f1_score(y_train, clf.predict(X_train), average='macro'),\n",
    "    'r2_sval': r2_score(y_val, clf.predict(X_val)),\n",
    "    'r2_train': r2_score(y_train, clf.predict(X_train))\n",
    "}\n"
   ]
  },
  {
   "cell_type": "code",
   "execution_count": null,
   "metadata": {},
   "outputs": [],
   "source": [
    "%%time\n",
    "clf = OneVsRestClassifier(VGBClassifier())\n",
    "clf.fit(X_train, y_train,)\n",
    "{\n",
    "    'f1_val': f1_score(y_val, clf.predict(X_val), average='macro'),\n",
    "    'f1_train': f1_score(y_train, clf.predict(X_train), average='macro'),\n",
    "    'r2_sval': r2_score(y_val, clf.predict(X_val)),\n",
    "    'r2_train': r2_score(y_train, clf.predict(X_train))\n",
    "}"
   ]
  },
  {
   "cell_type": "code",
   "execution_count": null,
   "metadata": {},
   "outputs": [],
   "source": [
    "X_train, X_val, y_train, y_val = train_test_split(\n",
    "    X[:65000], y[:65000], train_size=.7, stratify=y[:65000])\n",
    "y_train = le.fit_transform(y_train)\n",
    "y_val = le.transform(y_val)"
   ]
  },
  {
   "cell_type": "code",
   "execution_count": null,
   "metadata": {},
   "outputs": [],
   "source": [
    "%%time\n",
    "clf = XGBClassifier()\n",
    "clf.fit(X_train, y_train,)\n",
    "{\n",
    "    'f1_val': f1_score(y_val, clf.predict(X_val), average='macro'),\n",
    "    'f1_train': f1_score(y_train, clf.predict(X_train), average='macro'),\n",
    "    'r2_sval': r2_score(y_val, clf.predict(X_val)),\n",
    "    'r2_train': r2_score(y_train, clf.predict(X_train))\n",
    "}\n"
   ]
  },
  {
   "cell_type": "code",
   "execution_count": null,
   "metadata": {},
   "outputs": [],
   "source": [
    "%%time\n",
    "clf = OneVsRestClassifier(VGBClassifier())\n",
    "clf.fit(X_train, y_train,)\n",
    "{\n",
    "    'f1_val': f1_score(y_val, clf.predict(X_val), average='macro'),\n",
    "    'f1_train': f1_score(y_train, clf.predict(X_train), average='macro'),\n",
    "    'r2_sval': r2_score(y_val, clf.predict(X_val)),\n",
    "    'r2_train': r2_score(y_train, clf.predict(X_train))\n",
    "}"
   ]
  },
  {
   "attachments": {},
   "cell_type": "markdown",
   "metadata": {},
   "source": [
    "# Timeseries"
   ]
  },
  {
   "attachments": {},
   "cell_type": "markdown",
   "metadata": {},
   "source": [
    "https://www.kaggle.com/code/robikscube/tutorial-time-series-forecasting-with-xgboost/notebook"
   ]
  },
  {
   "cell_type": "code",
   "execution_count": 5,
   "metadata": {},
   "outputs": [],
   "source": [
    "import numpy as np # linear algebra\n",
    "import pandas as pd # data processing, CSV file I/O (e.g. pd.read_csv)\n",
    "import seaborn as sns\n",
    "import matplotlib.pyplot as plt\n",
    "import xgboost as xgb\n",
    "from xgboost import plot_importance, plot_tree\n",
    "from sklearn.metrics import mean_squared_error, mean_absolute_error\n",
    "plt.style.use('fivethirtyeight')"
   ]
  },
  {
   "cell_type": "code",
   "execution_count": 6,
   "metadata": {},
   "outputs": [],
   "source": [
    "pjme = pd.read_csv(r'../dataset/PJME_hourly.csv', index_col=[0], parse_dates=[0])"
   ]
  },
  {
   "cell_type": "code",
   "execution_count": 7,
   "metadata": {},
   "outputs": [
    {
     "data": {
      "image/png": "[encoded data removed]",
      "text/plain": [
       "<Figure size 1080x360 with 1 Axes>"
      ]
     },
     "metadata": {
      "needs_background": "light"
     },
     "output_type": "display_data"
    }
   ],
   "source": [
    "color_pal = [\"#F8766D\", \"#D39200\", \"#93AA00\", \"#00BA38\", \"#00C19F\", \"#00B9E3\", \"#619CFF\", \"#DB72FB\"]\n",
    "_ = pjme.plot(style='.', figsize=(15,5), color=color_pal[0], title='PJM East')"
   ]
  },
  {
   "cell_type": "code",
   "execution_count": 8,
   "metadata": {},
   "outputs": [],
   "source": [
    "split_date = '01-Jan-2015'\n",
    "pjme_train = pjme.loc[pjme.index <= split_date].copy()\n",
    "pjme_test = pjme.loc[pjme.index > split_date].copy()"
   ]
  },
  {
   "cell_type": "code",
   "execution_count": 9,
   "metadata": {},
   "outputs": [
    {
     "data": {
      "image/png": "[encoded data removed]",
      "text/plain": [
       "<Figure size 1080x360 with 1 Axes>"
      ]
     },
     "metadata": {
      "needs_background": "light"
     },
     "output_type": "display_data"
    }
   ],
   "source": [
    "_ = pjme_test \\\n",
    "    .rename(columns={'PJME_MW': 'TEST SET'}) \\\n",
    "    .join(pjme_train.rename(columns={'PJME_MW': 'TRAINING SET'}), how='outer') \\\n",
    "    .plot(figsize=(15,5), title='PJM East', style='.')"
   ]
  },
  {
   "cell_type": "code",
   "execution_count": 10,
   "metadata": {},
   "outputs": [],
   "source": [
    "def create_features(df, label=None):\n",
    "    \"\"\"\n",
    "    Creates time series features from datetime index\n",
    "    \"\"\"\n",
    "    df['date'] = df.index\n",
    "    df['hour'] = df['date'].dt.hour\n",
    "    df['dayofweek'] = df['date'].dt.dayofweek\n",
    "    df['quarter'] = df['date'].dt.quarter\n",
    "    df['month'] = df['date'].dt.month\n",
    "    df['year'] = df['date'].dt.year\n",
    "    df['dayofyear'] = df['date'].dt.dayofyear\n",
    "    df['dayofmonth'] = df['date'].dt.day\n",
    "    df['weekofyear'] = df['date'].dt.weekofyear\n",
    "    \n",
    "    X = df[['hour','dayofweek','quarter','month','year',\n",
    "           'dayofyear','dayofmonth','weekofyear']]\n",
    "    if label:\n",
    "        y = df[label]\n",
    "        return X, y\n",
    "    return X"
   ]
  },
  {
   "cell_type": "code",
   "execution_count": 11,
   "metadata": {},
   "outputs": [],
   "source": [
    "X_train, y_train = create_features(pjme_train, label='PJME_MW')\n",
    "X_test, y_test = create_features(pjme_test, label='PJME_MW')"
   ]
  },
  {
   "cell_type": "code",
   "execution_count": 12,
   "metadata": {},
   "outputs": [
    {
     "name": "stdout",
     "output_type": "stream",
     "text": [
      "CPU times: total: 14.5 s\n",
      "Wall time: 2.41 s\n"
     ]
    },
    {
     "data": {
      "text/plain": [
       "{'mse_val': 18118579.746304426,\n",
       " 'mse_train': 2861154.626244623,\n",
       " 'r2_val': 0.56445630942802,\n",
       " 'r2_train': 0.9312744725596329}"
      ]
     },
     "execution_count": 12,
     "metadata": {},
     "output_type": "execute_result"
    }
   ],
   "source": [
    "%%time\n",
    "reg = XGBRegressor()\n",
    "reg.fit(X_train, y_train)\n",
    "\n",
    "pjme_test['MW_Prediction'] = reg.predict(X_test)\n",
    "pjme_train['MW_Prediction'] = reg.predict(X_train)\n",
    "{\n",
    "    'mse_val': mean_squared_error(pjme_test['PJME_MW'], y_pred=pjme_test['MW_Prediction']),\n",
    "    'mse_train': mean_squared_error(pjme_train['PJME_MW'], y_pred=pjme_train['MW_Prediction']),\n",
    "    'r2_val': r2_score(pjme_test['PJME_MW'], y_pred=pjme_test['MW_Prediction']),\n",
    "    'r2_train': r2_score(pjme_train['PJME_MW'], y_pred=pjme_train['MW_Prediction']),\n",
    "}"
   ]
  },
  {
   "cell_type": "code",
   "execution_count": 13,
   "metadata": {},
   "outputs": [],
   "source": [
    "%%time\n",
    "reg = VGBRegressor()\n",
    "reg.fit(X_train, y_train)\n",
    "\n",
    "pjme_test['MW_Prediction'] = reg.predict(X_test)\n",
    "pjme_train['MW_Prediction'] = reg.predict(X_train)\n",
    "{\n",
    "    'mse_val': mean_squared_error(pjme_test['PJME_MW'], y_pred=pjme_test['MW_Prediction']),\n",
    "    'mse_train': mean_squared_error(pjme_train['PJME_MW'], y_pred=pjme_train['MW_Prediction']),\n",
    "    'r2_val': r2_score(pjme_test['PJME_MW'], y_pred=pjme_test['MW_Prediction']),\n",
    "    'r2_train': r2_score(pjme_train['PJME_MW'], y_pred=pjme_train['MW_Prediction']),\n",
    "}"
   ]
  },
  {
   "cell_type": "code",
   "execution_count": null,
   "metadata": {},
   "outputs": [],
   "source": []
  }
 ],
 "metadata": {
  "kernelspec": {
   "display_name": "env",
   "language": "python",
   "name": "python3"
  },
  "language_info": {
   "codemirror_mode": {
    "name": "ipython",
    "version": 3
   },
   "file_extension": ".py",
   "mimetype": "text/x-python",
   "name": "python",
   "nbconvert_exporter": "python",
   "pygments_lexer": "ipython3",
   "version": "3.8.7"
  },
  "orig_nbformat": 4,
  "vscode": {
   "interpreter": {
    "hash": "7b54756bd56978a1605700b56da5bb874b735bb1ae30ba8530d8e73b06f76dd1"
   }
  }
 },
 "nbformat": 4,
 "nbformat_minor": 2
}
