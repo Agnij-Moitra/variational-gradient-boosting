{
 "cells": [
  {
   "cell_type": "code",
   "execution_count": 1,
   "metadata": {},
   "outputs": [],
   "source": [
    "from matplotlib import pyplot as plt\n",
    "from VGBoost import VGBRegressor, VGBClassifier\n",
    "import warnings\n",
    "warnings.filterwarnings(\"ignore\")\n",
    "from concurrent.futures import ThreadPoolExecutor"
   ]
  },
  {
   "cell_type": "code",
   "execution_count": 9,
   "metadata": {},
   "outputs": [
    {
     "name": "stdout",
     "output_type": "stream",
     "text": [
      "CPU times: total: 0 ns\n",
      "Wall time: 0 ns\n"
     ]
    }
   ],
   "source": [
    "%%time\n",
    "from sklearn.datasets import make_classification\n"
   ]
  },
  {
   "cell_type": "code",
   "execution_count": 10,
   "metadata": {},
   "outputs": [
    {
     "name": "stdout",
     "output_type": "stream",
     "text": [
      "CPU times: total: 31.2 ms\n",
      "Wall time: 40 ms\n"
     ]
    }
   ],
   "source": [
    "%%time\n",
    "X, y = make_classification(n_samples=15000)"
   ]
  },
  {
   "cell_type": "code",
   "execution_count": 11,
   "metadata": {},
   "outputs": [
    {
     "name": "stdout",
     "output_type": "stream",
     "text": [
      "CPU times: total: 15.6 ms\n",
      "Wall time: 24 ms\n"
     ]
    }
   ],
   "source": [
    "%%time\n",
    "from sklearn.model_selection import train_test_split\n",
    "X_train, X_val, y_train, y_val = train_test_split(\n",
    "    X, y, train_size=.7, stratify=y\n",
    ")\n"
   ]
  },
  {
   "cell_type": "code",
   "execution_count": 12,
   "metadata": {},
   "outputs": [
    {
     "data": {
      "text/plain": [
       "array([7502, 7498], dtype=int64)"
      ]
     },
     "execution_count": 12,
     "metadata": {},
     "output_type": "execute_result"
    }
   ],
   "source": [
    "import numpy as np\n",
    "np.bincount(y)\n"
   ]
  },
  {
   "cell_type": "code",
   "execution_count": 13,
   "metadata": {},
   "outputs": [],
   "source": [
    "from sklearn.metrics import f1_score"
   ]
  },
  {
   "cell_type": "code",
   "execution_count": 14,
   "metadata": {},
   "outputs": [
    {
     "name": "stdout",
     "output_type": "stream",
     "text": [
      "CPU times: total: 14.5 s\n",
      "Wall time: 2.69 s\n"
     ]
    },
    {
     "data": {
      "text/plain": [
       "(0.8772169167803546, 0.9964698024997615)"
      ]
     },
     "execution_count": 14,
     "metadata": {},
     "output_type": "execute_result"
    }
   ],
   "source": [
    "%%time\n",
    "from xgboost import XGBClassifier\n",
    "clf = XGBClassifier()\n",
    "clf.fit(X_train, y_train)\n",
    "(f1_score(y_val, clf.predict(X_val)), f1_score(y_train, clf.predict(X_train)))"
   ]
  },
  {
   "cell_type": "code",
   "execution_count": 15,
   "metadata": {},
   "outputs": [
    {
     "name": "stdout",
     "output_type": "stream",
     "text": [
      "CPU times: total: 8min 30s\n",
      "Wall time: 2min 46s\n"
     ]
    },
    {
     "data": {
      "text/plain": [
       "(0.8824061510628675, 0.9699398797595191)"
      ]
     },
     "execution_count": 15,
     "metadata": {},
     "output_type": "execute_result"
    }
   ],
   "source": [
    "%%time\n",
    "from lightgbm import LGBMRegressor\n",
    "clf = VGBClassifier()\n",
    "_ = clf.fit(X_train, y_train,)\n",
    "(f1_score(y_val, clf.predict(X_val)), f1_score(y_train, clf.predict(X_train)))\n"
   ]
  },
  {
   "cell_type": "code",
   "execution_count": 16,
   "metadata": {},
   "outputs": [
    {
     "data": {
      "text/plain": [
       "([ExtraTreesRegressor(),\n",
       "  LGBMRegressor(),\n",
       "  ExtraTreesRegressor(),\n",
       "  LGBMRegressor(),\n",
       "  ExtraTreesRegressor(),\n",
       "  LGBMRegressor(),\n",
       "  ExtraTreesRegressor(),\n",
       "  LGBMRegressor(),\n",
       "  ExtraTreesRegressor(),\n",
       "  LGBMRegressor(),\n",
       "  ExtraTreesRegressor(),\n",
       "  LGBMRegressor(),\n",
       "  LGBMRegressor(),\n",
       "  LGBMRegressor(),\n",
       "  LGBMRegressor(),\n",
       "  LGBMRegressor(),\n",
       "  LGBMRegressor(),\n",
       "  LGBMRegressor(),\n",
       "  LGBMRegressor(),\n",
       "  LGBMRegressor(),\n",
       "  LGBMRegressor(),\n",
       "  LGBMRegressor(),\n",
       "  LGBMRegressor(),\n",
       "  LGBMRegressor(),\n",
       "  LGBMRegressor(),\n",
       "  LGBMRegressor(),\n",
       "  LGBMRegressor(),\n",
       "  LGBMRegressor(),\n",
       "  LGBMRegressor(),\n",
       "  LGBMRegressor(),\n",
       "  LGBMRegressor(),\n",
       "  LGBMRegressor(),\n",
       "  LGBMRegressor(),\n",
       "  LGBMRegressor(),\n",
       "  LGBMRegressor(),\n",
       "  LGBMRegressor(),\n",
       "  LGBMRegressor(),\n",
       "  LGBMRegressor(),\n",
       "  LGBMRegressor(),\n",
       "  LGBMRegressor(),\n",
       "  LGBMRegressor(),\n",
       "  LGBMRegressor(),\n",
       "  LGBMRegressor(),\n",
       "  LGBMRegressor(),\n",
       "  LGBMRegressor(),\n",
       "  LGBMRegressor(),\n",
       "  LGBMRegressor(),\n",
       "  LGBMRegressor(),\n",
       "  LGBMRegressor(),\n",
       "  LGBMRegressor(),\n",
       "  LGBMRegressor(),\n",
       "  LGBMRegressor(),\n",
       "  LGBMRegressor(),\n",
       "  LGBMRegressor(),\n",
       "  LGBMRegressor(),\n",
       "  LGBMRegressor(),\n",
       "  LGBMRegressor(),\n",
       "  BayesianRidge(),\n",
       "  BayesianRidge(),\n",
       "  BayesianRidge(),\n",
       "  BayesianRidge(),\n",
       "  BayesianRidge(),\n",
       "  BayesianRidge(),\n",
       "  BayesianRidge(),\n",
       "  BayesianRidge(),\n",
       "  BayesianRidge(),\n",
       "  BayesianRidge(),\n",
       "  BayesianRidge(),\n",
       "  BayesianRidge(),\n",
       "  BayesianRidge(),\n",
       "  BayesianRidge(),\n",
       "  BayesianRidge(),\n",
       "  BayesianRidge(),\n",
       "  BayesianRidge(),\n",
       "  BayesianRidge(),\n",
       "  BayesianRidge(),\n",
       "  BayesianRidge(),\n",
       "  BayesianRidge(),\n",
       "  BayesianRidge(),\n",
       "  BayesianRidge(),\n",
       "  BayesianRidge(),\n",
       "  BayesianRidge(),\n",
       "  BayesianRidge(),\n",
       "  BayesianRidge(),\n",
       "  BayesianRidge(),\n",
       "  BayesianRidge(),\n",
       "  BayesianRidge(),\n",
       "  BayesianRidge(),\n",
       "  BayesianRidge(),\n",
       "  BayesianRidge(),\n",
       "  BayesianRidge(),\n",
       "  BayesianRidge(),\n",
       "  BayesianRidge(),\n",
       "  BayesianRidge(),\n",
       "  BayesianRidge(),\n",
       "  BayesianRidge(),\n",
       "  BayesianRidge(),\n",
       "  BayesianRidge(),\n",
       "  BayesianRidge()],\n",
       " (          r0      r1        r2        r3        r4        r5        r6  \\\n",
       "  0   0.500095  0.4749  0.001187  0.023758 -0.001129  0.001245 -0.000119   \n",
       "  1   0.500095  0.4749  0.001283  0.023657 -0.001122  0.001243 -0.000118   \n",
       "  2  -0.499905  0.5249 -0.050951  0.028503 -0.003941  0.001543 -0.000227   \n",
       "  3   0.500095  0.4749  0.001009  0.023946 -0.001168  0.001276 -0.000123   \n",
       "  4  -0.499905  0.5249 -0.050379  0.026315 -0.002247  0.001428 -0.000186   \n",
       "  ..       ...     ...       ...       ...       ...       ...       ...   \n",
       "  94  0.500095  0.4749  0.001232  0.023711 -0.001125  0.001243 -0.000118   \n",
       "  95  0.500095  0.4749  0.001259  0.023682 -0.001124  0.001250 -0.000125   \n",
       "  96  0.500095  0.4749  0.000648  0.024324 -0.001233  0.001377 -0.000182   \n",
       "  97 -0.499905  0.5249 -0.050917  0.028468 -0.003905  0.001555 -0.000270   \n",
       "  98  0.500095  0.4749  0.001234  0.023709 -0.001125  0.001243 -0.000118   \n",
       "  \n",
       "            r7        r8        r9  ...           r91           r92  \\\n",
       "  0   0.000068 -0.000009  0.000004  ...  0.000000e+00  0.000000e+00   \n",
       "  1   0.000068 -0.000009  0.000004  ...  0.000000e+00  0.000000e+00   \n",
       "  2   0.000088 -0.000016  0.000005  ...  2.253993e-57 -5.361173e-58   \n",
       "  3   0.000071 -0.000010  0.000004  ...  0.000000e+00  0.000000e+00   \n",
       "  4   0.000083 -0.000013  0.000005  ...  2.684916e-57 -6.224563e-58   \n",
       "  ..       ...       ...       ...  ...           ...           ...   \n",
       "  94  0.000068 -0.000009  0.000004  ...  0.000000e+00  0.000000e+00   \n",
       "  95  0.000069 -0.000010  0.000004  ...  0.000000e+00  0.000000e+00   \n",
       "  96  0.000080 -0.000013  0.000005  ...  0.000000e+00  0.000000e+00   \n",
       "  97  0.000088 -0.000018  0.000005  ...  3.538674e-57 -8.148541e-58   \n",
       "  98  0.000068 -0.000009  0.000004  ...  0.000000e+00  0.000000e+00   \n",
       "  \n",
       "               r93           r94           r95           r96           r97  \\\n",
       "  0   0.000000e+00  0.000000e+00  0.000000e+00  0.000000e+00  0.000000e+00   \n",
       "  1   0.000000e+00  0.000000e+00  0.000000e+00  0.000000e+00  0.000000e+00   \n",
       "  2   1.240947e-58 -2.844587e-59  6.572177e-60 -1.534530e-60  3.464856e-61   \n",
       "  3   0.000000e+00  0.000000e+00  0.000000e+00  0.000000e+00  0.000000e+00   \n",
       "  4   1.438567e-58 -3.356873e-59  7.650327e-60 -1.774485e-60  4.086659e-61   \n",
       "  ..           ...           ...           ...           ...           ...   \n",
       "  94  0.000000e+00  0.000000e+00  0.000000e+00  0.000000e+00  0.000000e+00   \n",
       "  95  0.000000e+00  0.000000e+00  0.000000e+00  0.000000e+00  0.000000e+00   \n",
       "  96  0.000000e+00  0.000000e+00  0.000000e+00  0.000000e+00  0.000000e+00   \n",
       "  97  1.879361e-58 -4.419508e-59  1.027873e-59 -2.365831e-60  5.446821e-61   \n",
       "  98  0.000000e+00  0.000000e+00  0.000000e+00  0.000000e+00  0.000000e+00   \n",
       "  \n",
       "               r98           r99          r100  \n",
       "  0   0.000000e+00  0.000000e+00  0.000000e+00  \n",
       "  1   0.000000e+00  0.000000e+00  0.000000e+00  \n",
       "  2  -8.269228e-62  1.876816e-62 -4.454078e-63  \n",
       "  3   0.000000e+00  0.000000e+00  0.000000e+00  \n",
       "  4  -9.617917e-62  2.233566e-62 -5.246965e-63  \n",
       "  ..           ...           ...           ...  \n",
       "  94  0.000000e+00  0.000000e+00  0.000000e+00  \n",
       "  95  0.000000e+00  0.000000e+00  0.000000e+00  \n",
       "  96  0.000000e+00  0.000000e+00  0.000000e+00  \n",
       "  97 -1.288270e-61  2.882771e-62 -6.904833e-63  \n",
       "  98  0.000000e+00  0.000000e+00  0.000000e+00  \n",
       "  \n",
       "  [99 rows x 101 columns],\n",
       "  [0.25024859179523806,\n",
       "   0.001229851912100991,\n",
       "   0.0006918943106077637,\n",
       "   8.165350151047468e-06,\n",
       "   2.0951936754397125e-06,\n",
       "   4.4765012981885835e-08,\n",
       "   6.833894599011678e-09,\n",
       "   2.1393326213221765e-10,\n",
       "   2.3590449567302016e-11,\n",
       "   9.447030876273842e-13,\n",
       "   8.480247420254284e-14,\n",
       "   3.979584942258479e-15,\n",
       "   3.1356342090863207e-16,\n",
       "   1.629493261635864e-17,\n",
       "   1.1818607952676887e-18,\n",
       "   6.561996643671027e-20,\n",
       "   4.510497409021634e-21,\n",
       "   2.613055419735281e-22,\n",
       "   1.7356693357867262e-23,\n",
       "   1.033275267444723e-24,\n",
       "   6.714301228149536e-26,\n",
       "   4.069058403795957e-27,\n",
       "   2.6084497970840058e-28,\n",
       "   1.593684614271262e-29,\n",
       "   1.0260265874332862e-30,\n",
       "   4.7778092292846877e-32,\n",
       "   2.5794460946723074e-33,\n",
       "   1.5049636481849866e-34,\n",
       "   8.392656917063174e-36,\n",
       "   4.983639224368217e-37,\n",
       "   2.9057820807884753e-38,\n",
       "   1.7439753109551208e-39,\n",
       "   1.0357731111342551e-40,\n",
       "   6.248240804377779e-42,\n",
       "   3.74998681641425e-43,\n",
       "   2.276610734264047e-44,\n",
       "   1.3795498201503651e-45,\n",
       "   8.426819643814581e-47,\n",
       "   5.128433363921342e-48,\n",
       "   3.1304824368494985e-49,\n",
       "   1.9114953036387652e-50,\n",
       "   1.1724396362735168e-51,\n",
       "   7.176835332617892e-53,\n",
       "   4.4115356927589016e-54,\n",
       "   2.7102757781747097e-55,\n",
       "   1.665667335798652e-56,\n",
       "   1.0256936463845176e-57,\n",
       "   6.325446782035523e-59,\n",
       "   3.897922335443407e-60,\n",
       "   2.404110168846697e-61,\n",
       "   1.4837809819654903e-62,\n",
       "   9.147317588956731e-64,\n",
       "   5.644142803825164e-65,\n",
       "   3.479726112583434e-66,\n",
       "   2.1298839774346343e-67,\n",
       "   1.228190810296025e-68,\n",
       "   5.406201129321157e-70,\n",
       "   1.4308782344577548e-71,\n",
       "   1.1615682604713476e-72,\n",
       "   4.013172039985883e-74,\n",
       "   3.100687277845374e-75,\n",
       "   1.2388238343232136e-76,\n",
       "   8.439049704697775e-78,\n",
       "   3.7187284538035875e-79,\n",
       "   2.3237383843114315e-80,\n",
       "   1.1007642206293835e-81,\n",
       "   6.48952412284686e-83,\n",
       "   3.2378857958257504e-84,\n",
       "   1.8646378381356693e-85,\n",
       "   9.447297117456748e-87,\n",
       "   5.28085812483606e-88,\n",
       "   2.740536819801676e-89,\n",
       "   1.5035955537716138e-90,\n",
       "   7.917606893521687e-92,\n",
       "   4.312081214272394e-93,\n",
       "   2.283139853672775e-94,\n",
       "   1.2394240229202182e-95,\n",
       "   6.603260970325264e-97,\n",
       "   3.55743228738149e-98,\n",
       "   1.907410947050408e-99,\n",
       "   1.0246934339700194e-100,\n",
       "   5.498624581800278e-102,\n",
       "   2.938162148632056e-103,\n",
       "   1.5786617134333154e-104,\n",
       "   8.426834551654958e-106,\n",
       "   4.5577948653489923e-107,\n",
       "   2.4256636254263825e-108,\n",
       "   1.312777281693529e-109,\n",
       "   6.994885949738373e-111,\n",
       "   3.7785477445125687e-112,\n",
       "   2.0222693673940434e-113,\n",
       "   1.0907169007294149e-114,\n",
       "   5.808552839232566e-116,\n",
       "   3.1469154181540104e-117,\n",
       "   1.6861271426347968e-118,\n",
       "   9.116661677714176e-120,\n",
       "   4.860214845868671e-121,\n",
       "   2.6257932176721593e-122,\n",
       "   1.4030614470463778e-123]))"
      ]
     },
     "execution_count": 16,
     "metadata": {},
     "output_type": "execute_result"
    }
   ],
   "source": [
    "_"
   ]
  },
  {
   "cell_type": "code",
   "execution_count": 17,
   "metadata": {},
   "outputs": [
    {
     "name": "stdout",
     "output_type": "stream",
     "text": [
      "CPU times: total: 2.61 s\n",
      "Wall time: 586 ms\n"
     ]
    },
    {
     "data": {
      "text/plain": [
       "(0.8796147672552167, 0.9555231143552312)"
      ]
     },
     "execution_count": 17,
     "metadata": {},
     "output_type": "execute_result"
    }
   ],
   "source": [
    "%%time\n",
    "from lightgbm import LGBMClassifier\n",
    "clf = LGBMClassifier()\n",
    "clf.fit(X_train, y_train)\n",
    "(f1_score(y_val, clf.predict(X_val)), f1_score(y_train, clf.predict(X_train)))\n"
   ]
  },
  {
   "cell_type": "code",
   "execution_count": null,
   "metadata": {},
   "outputs": [],
   "source": []
  }
 ],
 "metadata": {
  "kernelspec": {
   "display_name": "env",
   "language": "python",
   "name": "python3"
  },
  "language_info": {
   "codemirror_mode": {
    "name": "ipython",
    "version": 3
   },
   "file_extension": ".py",
   "mimetype": "text/x-python",
   "name": "python",
   "nbconvert_exporter": "python",
   "pygments_lexer": "ipython3",
   "version": "3.8.7"
  },
  "orig_nbformat": 4,
  "vscode": {
   "interpreter": {
    "hash": "023b056bc26a3a4ec4ccb849012e9ec0a7e7339a1d248e7ddb8294afb0b6c3ca"
   }
  }
 },
 "nbformat": 4,
 "nbformat_minor": 2
}
